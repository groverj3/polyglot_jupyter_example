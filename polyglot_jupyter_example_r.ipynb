{
 "cells": [
  {
   "cell_type": "markdown",
   "id": "6b16b0d9-b18a-4e79-a8c5-39e5670ebbd6",
   "metadata": {},
   "source": [
    "# R - Jupyter Project Environment\n",
    "## Author: Jeffrey Grover\n",
    "## Date: 2024-06-01\n",
    "### Purpose:\n",
    "The second half of our polyglot Jupyter project, this half uses R.\n",
    "\n",
    "This R example is intended to be run first."
   ]
  },
  {
   "cell_type": "markdown",
   "id": "f7627667-5f13-445c-b2f2-e1ed62871ac1",
   "metadata": {},
   "source": [
    "### Create an Output Dir"
   ]
  },
  {
   "cell_type": "code",
   "execution_count": 38,
   "id": "b404d92e-9b01-44ed-84ca-3b02b9841f12",
   "metadata": {},
   "outputs": [],
   "source": [
    "system(\"mkdir polyglot_jupyter_example_r\")"
   ]
  },
  {
   "cell_type": "code",
   "execution_count": 39,
   "id": "52e6228e-7702-462d-b452-a27996cb8146",
   "metadata": {},
   "outputs": [
    {
     "data": {
      "text/html": [
       "<style>\n",
       ".list-inline {list-style: none; margin:0; padding: 0}\n",
       ".list-inline>li {display: inline-block}\n",
       ".list-inline>li:not(:last-child)::after {content: \"\\00b7\"; padding: 0 .5ex}\n",
       "</style>\n",
       "<ol class=list-inline><li>'images'</li><li>'LICENSE'</li><li>'polyglot_jupyter_example_py'</li><li>'polyglot_jupyter_example_py.ipynb'</li><li>'polyglot_jupyter_example_r'</li><li>'polyglot_jupyter_example_r.ipynb'</li><li>'README.md'</li><li>'renv'</li><li>'renv.lock'</li><li>'requirements.txt'</li><li>'test_data'</li></ol>\n"
      ],
      "text/latex": [
       "\\begin{enumerate*}\n",
       "\\item 'images'\n",
       "\\item 'LICENSE'\n",
       "\\item 'polyglot\\_jupyter\\_example\\_py'\n",
       "\\item 'polyglot\\_jupyter\\_example\\_py.ipynb'\n",
       "\\item 'polyglot\\_jupyter\\_example\\_r'\n",
       "\\item 'polyglot\\_jupyter\\_example\\_r.ipynb'\n",
       "\\item 'README.md'\n",
       "\\item 'renv'\n",
       "\\item 'renv.lock'\n",
       "\\item 'requirements.txt'\n",
       "\\item 'test\\_data'\n",
       "\\end{enumerate*}\n"
      ],
      "text/markdown": [
       "1. 'images'\n",
       "2. 'LICENSE'\n",
       "3. 'polyglot_jupyter_example_py'\n",
       "4. 'polyglot_jupyter_example_py.ipynb'\n",
       "5. 'polyglot_jupyter_example_r'\n",
       "6. 'polyglot_jupyter_example_r.ipynb'\n",
       "7. 'README.md'\n",
       "8. 'renv'\n",
       "9. 'renv.lock'\n",
       "10. 'requirements.txt'\n",
       "11. 'test_data'\n",
       "\n",
       "\n"
      ],
      "text/plain": [
       " [1] \"images\"                            \"LICENSE\"                          \n",
       " [3] \"polyglot_jupyter_example_py\"       \"polyglot_jupyter_example_py.ipynb\"\n",
       " [5] \"polyglot_jupyter_example_r\"        \"polyglot_jupyter_example_r.ipynb\" \n",
       " [7] \"README.md\"                         \"renv\"                             \n",
       " [9] \"renv.lock\"                         \"requirements.txt\"                 \n",
       "[11] \"test_data\"                        "
      ]
     },
     "metadata": {},
     "output_type": "display_data"
    }
   ],
   "source": [
    "list.files()"
   ]
  },
  {
   "cell_type": "markdown",
   "id": "c09f3243-74ab-49f0-9235-7330df745ad8",
   "metadata": {},
   "source": [
    "### Confirm the setup\n",
    "Because [renv](https://rstudio.github.io/renv/index.html) is just an R package, it plays nicely with notebooks. When the R interpreter is called by jupyter inside the project folder it automatically uses the environment you created."
   ]
  },
  {
   "cell_type": "code",
   "execution_count": 6,
   "id": "89ce5ddd-391a-4194-b0d6-bc806b105ec9",
   "metadata": {},
   "outputs": [
    {
     "data": {
      "text/html": [
       "<style>\n",
       ".list-inline {list-style: none; margin:0; padding: 0}\n",
       ".list-inline>li {display: inline-block}\n",
       ".list-inline>li:not(:last-child)::after {content: \"\\00b7\"; padding: 0 .5ex}\n",
       "</style>\n",
       "<ol class=list-inline><li>'askpass'</li><li>'backports'</li><li>'base64enc'</li><li>'bit'</li><li>'bit64'</li><li>'blob'</li><li>'broom'</li><li>'bslib'</li><li>'cachem'</li><li>'callr'</li><li>'cellranger'</li><li>'cli'</li><li>'clipr'</li><li>'colorspace'</li><li>'conflicted'</li><li>'cpp11'</li><li>'crayon'</li><li>'curl'</li><li>'data.table'</li><li>'DBI'</li><li>'dbplyr'</li><li>'digest'</li><li>'dplyr'</li><li>'dtplyr'</li><li>'evaluate'</li><li>'fansi'</li><li>'farver'</li><li>'fastmap'</li><li>'fontawesome'</li><li>'forcats'</li><li>'fs'</li><li>'gargle'</li><li>'generics'</li><li>'ggplot2'</li><li>'glue'</li><li>'googledrive'</li><li>'googlesheets4'</li><li>'gtable'</li><li>'haven'</li><li>'highr'</li><li>'hms'</li><li>'htmltools'</li><li>'httr'</li><li>'ids'</li><li>'IRdisplay'</li><li>'IRkernel'</li><li>'isoband'</li><li>'jquerylib'</li><li>'jsonlite'</li><li>'knitr'</li><li>'labeling'</li><li>'lifecycle'</li><li>'lubridate'</li><li>'magrittr'</li><li>'memoise'</li><li>'mime'</li><li>'modelr'</li><li>'munsell'</li><li>'openssl'</li><li>'pbdZMQ'</li><li>'pillar'</li><li>'pkgconfig'</li><li>'prettyunits'</li><li>'processx'</li><li>'progress'</li><li>'ps'</li><li>'purrr'</li><li>'R6'</li><li>'ragg'</li><li>'rappdirs'</li><li>'RColorBrewer'</li><li>'readr'</li><li>'readxl'</li><li>'rematch'</li><li>'rematch2'</li><li>'renv'</li><li>'repr'</li><li>'reprex'</li><li>'rlang'</li><li>'rmarkdown'</li><li>'rstudioapi'</li><li>'rvest'</li><li>'sass'</li><li>'scales'</li><li>'selectr'</li><li>'stringi'</li><li>'stringr'</li><li>'sys'</li><li>'systemfonts'</li><li>'textshaping'</li><li>'tibble'</li><li>'tidyr'</li><li>'tidyselect'</li><li>'tidyverse'</li><li>'timechange'</li><li>'tinytex'</li><li>'tzdb'</li><li>'utf8'</li><li>'uuid'</li><li>'vctrs'</li><li>'viridisLite'</li><li>'vroom'</li><li>'withr'</li><li>'xfun'</li><li>'xml2'</li><li>'yaml'</li><li>'base'</li><li>'boot'</li><li>'class'</li><li>'cluster'</li><li>'codetools'</li><li>'compiler'</li><li>'datasets'</li><li>'foreign'</li><li>'graphics'</li><li>'grDevices'</li><li>'grid'</li><li>'KernSmooth'</li><li>'lattice'</li><li>'MASS'</li><li>'Matrix'</li><li>'methods'</li><li>'mgcv'</li><li>'nlme'</li><li>'nnet'</li><li>'parallel'</li><li>'rpart'</li><li>'spatial'</li><li>'splines'</li><li>'stats'</li><li>'stats4'</li><li>'survival'</li><li>'tcltk'</li><li>'tools'</li><li>'utils'</li></ol>\n"
      ],
      "text/latex": [
       "\\begin{enumerate*}\n",
       "\\item 'askpass'\n",
       "\\item 'backports'\n",
       "\\item 'base64enc'\n",
       "\\item 'bit'\n",
       "\\item 'bit64'\n",
       "\\item 'blob'\n",
       "\\item 'broom'\n",
       "\\item 'bslib'\n",
       "\\item 'cachem'\n",
       "\\item 'callr'\n",
       "\\item 'cellranger'\n",
       "\\item 'cli'\n",
       "\\item 'clipr'\n",
       "\\item 'colorspace'\n",
       "\\item 'conflicted'\n",
       "\\item 'cpp11'\n",
       "\\item 'crayon'\n",
       "\\item 'curl'\n",
       "\\item 'data.table'\n",
       "\\item 'DBI'\n",
       "\\item 'dbplyr'\n",
       "\\item 'digest'\n",
       "\\item 'dplyr'\n",
       "\\item 'dtplyr'\n",
       "\\item 'evaluate'\n",
       "\\item 'fansi'\n",
       "\\item 'farver'\n",
       "\\item 'fastmap'\n",
       "\\item 'fontawesome'\n",
       "\\item 'forcats'\n",
       "\\item 'fs'\n",
       "\\item 'gargle'\n",
       "\\item 'generics'\n",
       "\\item 'ggplot2'\n",
       "\\item 'glue'\n",
       "\\item 'googledrive'\n",
       "\\item 'googlesheets4'\n",
       "\\item 'gtable'\n",
       "\\item 'haven'\n",
       "\\item 'highr'\n",
       "\\item 'hms'\n",
       "\\item 'htmltools'\n",
       "\\item 'httr'\n",
       "\\item 'ids'\n",
       "\\item 'IRdisplay'\n",
       "\\item 'IRkernel'\n",
       "\\item 'isoband'\n",
       "\\item 'jquerylib'\n",
       "\\item 'jsonlite'\n",
       "\\item 'knitr'\n",
       "\\item 'labeling'\n",
       "\\item 'lifecycle'\n",
       "\\item 'lubridate'\n",
       "\\item 'magrittr'\n",
       "\\item 'memoise'\n",
       "\\item 'mime'\n",
       "\\item 'modelr'\n",
       "\\item 'munsell'\n",
       "\\item 'openssl'\n",
       "\\item 'pbdZMQ'\n",
       "\\item 'pillar'\n",
       "\\item 'pkgconfig'\n",
       "\\item 'prettyunits'\n",
       "\\item 'processx'\n",
       "\\item 'progress'\n",
       "\\item 'ps'\n",
       "\\item 'purrr'\n",
       "\\item 'R6'\n",
       "\\item 'ragg'\n",
       "\\item 'rappdirs'\n",
       "\\item 'RColorBrewer'\n",
       "\\item 'readr'\n",
       "\\item 'readxl'\n",
       "\\item 'rematch'\n",
       "\\item 'rematch2'\n",
       "\\item 'renv'\n",
       "\\item 'repr'\n",
       "\\item 'reprex'\n",
       "\\item 'rlang'\n",
       "\\item 'rmarkdown'\n",
       "\\item 'rstudioapi'\n",
       "\\item 'rvest'\n",
       "\\item 'sass'\n",
       "\\item 'scales'\n",
       "\\item 'selectr'\n",
       "\\item 'stringi'\n",
       "\\item 'stringr'\n",
       "\\item 'sys'\n",
       "\\item 'systemfonts'\n",
       "\\item 'textshaping'\n",
       "\\item 'tibble'\n",
       "\\item 'tidyr'\n",
       "\\item 'tidyselect'\n",
       "\\item 'tidyverse'\n",
       "\\item 'timechange'\n",
       "\\item 'tinytex'\n",
       "\\item 'tzdb'\n",
       "\\item 'utf8'\n",
       "\\item 'uuid'\n",
       "\\item 'vctrs'\n",
       "\\item 'viridisLite'\n",
       "\\item 'vroom'\n",
       "\\item 'withr'\n",
       "\\item 'xfun'\n",
       "\\item 'xml2'\n",
       "\\item 'yaml'\n",
       "\\item 'base'\n",
       "\\item 'boot'\n",
       "\\item 'class'\n",
       "\\item 'cluster'\n",
       "\\item 'codetools'\n",
       "\\item 'compiler'\n",
       "\\item 'datasets'\n",
       "\\item 'foreign'\n",
       "\\item 'graphics'\n",
       "\\item 'grDevices'\n",
       "\\item 'grid'\n",
       "\\item 'KernSmooth'\n",
       "\\item 'lattice'\n",
       "\\item 'MASS'\n",
       "\\item 'Matrix'\n",
       "\\item 'methods'\n",
       "\\item 'mgcv'\n",
       "\\item 'nlme'\n",
       "\\item 'nnet'\n",
       "\\item 'parallel'\n",
       "\\item 'rpart'\n",
       "\\item 'spatial'\n",
       "\\item 'splines'\n",
       "\\item 'stats'\n",
       "\\item 'stats4'\n",
       "\\item 'survival'\n",
       "\\item 'tcltk'\n",
       "\\item 'tools'\n",
       "\\item 'utils'\n",
       "\\end{enumerate*}\n"
      ],
      "text/markdown": [
       "1. 'askpass'\n",
       "2. 'backports'\n",
       "3. 'base64enc'\n",
       "4. 'bit'\n",
       "5. 'bit64'\n",
       "6. 'blob'\n",
       "7. 'broom'\n",
       "8. 'bslib'\n",
       "9. 'cachem'\n",
       "10. 'callr'\n",
       "11. 'cellranger'\n",
       "12. 'cli'\n",
       "13. 'clipr'\n",
       "14. 'colorspace'\n",
       "15. 'conflicted'\n",
       "16. 'cpp11'\n",
       "17. 'crayon'\n",
       "18. 'curl'\n",
       "19. 'data.table'\n",
       "20. 'DBI'\n",
       "21. 'dbplyr'\n",
       "22. 'digest'\n",
       "23. 'dplyr'\n",
       "24. 'dtplyr'\n",
       "25. 'evaluate'\n",
       "26. 'fansi'\n",
       "27. 'farver'\n",
       "28. 'fastmap'\n",
       "29. 'fontawesome'\n",
       "30. 'forcats'\n",
       "31. 'fs'\n",
       "32. 'gargle'\n",
       "33. 'generics'\n",
       "34. 'ggplot2'\n",
       "35. 'glue'\n",
       "36. 'googledrive'\n",
       "37. 'googlesheets4'\n",
       "38. 'gtable'\n",
       "39. 'haven'\n",
       "40. 'highr'\n",
       "41. 'hms'\n",
       "42. 'htmltools'\n",
       "43. 'httr'\n",
       "44. 'ids'\n",
       "45. 'IRdisplay'\n",
       "46. 'IRkernel'\n",
       "47. 'isoband'\n",
       "48. 'jquerylib'\n",
       "49. 'jsonlite'\n",
       "50. 'knitr'\n",
       "51. 'labeling'\n",
       "52. 'lifecycle'\n",
       "53. 'lubridate'\n",
       "54. 'magrittr'\n",
       "55. 'memoise'\n",
       "56. 'mime'\n",
       "57. 'modelr'\n",
       "58. 'munsell'\n",
       "59. 'openssl'\n",
       "60. 'pbdZMQ'\n",
       "61. 'pillar'\n",
       "62. 'pkgconfig'\n",
       "63. 'prettyunits'\n",
       "64. 'processx'\n",
       "65. 'progress'\n",
       "66. 'ps'\n",
       "67. 'purrr'\n",
       "68. 'R6'\n",
       "69. 'ragg'\n",
       "70. 'rappdirs'\n",
       "71. 'RColorBrewer'\n",
       "72. 'readr'\n",
       "73. 'readxl'\n",
       "74. 'rematch'\n",
       "75. 'rematch2'\n",
       "76. 'renv'\n",
       "77. 'repr'\n",
       "78. 'reprex'\n",
       "79. 'rlang'\n",
       "80. 'rmarkdown'\n",
       "81. 'rstudioapi'\n",
       "82. 'rvest'\n",
       "83. 'sass'\n",
       "84. 'scales'\n",
       "85. 'selectr'\n",
       "86. 'stringi'\n",
       "87. 'stringr'\n",
       "88. 'sys'\n",
       "89. 'systemfonts'\n",
       "90. 'textshaping'\n",
       "91. 'tibble'\n",
       "92. 'tidyr'\n",
       "93. 'tidyselect'\n",
       "94. 'tidyverse'\n",
       "95. 'timechange'\n",
       "96. 'tinytex'\n",
       "97. 'tzdb'\n",
       "98. 'utf8'\n",
       "99. 'uuid'\n",
       "100. 'vctrs'\n",
       "101. 'viridisLite'\n",
       "102. 'vroom'\n",
       "103. 'withr'\n",
       "104. 'xfun'\n",
       "105. 'xml2'\n",
       "106. 'yaml'\n",
       "107. 'base'\n",
       "108. 'boot'\n",
       "109. 'class'\n",
       "110. 'cluster'\n",
       "111. 'codetools'\n",
       "112. 'compiler'\n",
       "113. 'datasets'\n",
       "114. 'foreign'\n",
       "115. 'graphics'\n",
       "116. 'grDevices'\n",
       "117. 'grid'\n",
       "118. 'KernSmooth'\n",
       "119. 'lattice'\n",
       "120. 'MASS'\n",
       "121. 'Matrix'\n",
       "122. 'methods'\n",
       "123. 'mgcv'\n",
       "124. 'nlme'\n",
       "125. 'nnet'\n",
       "126. 'parallel'\n",
       "127. 'rpart'\n",
       "128. 'spatial'\n",
       "129. 'splines'\n",
       "130. 'stats'\n",
       "131. 'stats4'\n",
       "132. 'survival'\n",
       "133. 'tcltk'\n",
       "134. 'tools'\n",
       "135. 'utils'\n",
       "\n",
       "\n"
      ],
      "text/plain": [
       "  [1] \"askpass\"       \"backports\"     \"base64enc\"     \"bit\"          \n",
       "  [5] \"bit64\"         \"blob\"          \"broom\"         \"bslib\"        \n",
       "  [9] \"cachem\"        \"callr\"         \"cellranger\"    \"cli\"          \n",
       " [13] \"clipr\"         \"colorspace\"    \"conflicted\"    \"cpp11\"        \n",
       " [17] \"crayon\"        \"curl\"          \"data.table\"    \"DBI\"          \n",
       " [21] \"dbplyr\"        \"digest\"        \"dplyr\"         \"dtplyr\"       \n",
       " [25] \"evaluate\"      \"fansi\"         \"farver\"        \"fastmap\"      \n",
       " [29] \"fontawesome\"   \"forcats\"       \"fs\"            \"gargle\"       \n",
       " [33] \"generics\"      \"ggplot2\"       \"glue\"          \"googledrive\"  \n",
       " [37] \"googlesheets4\" \"gtable\"        \"haven\"         \"highr\"        \n",
       " [41] \"hms\"           \"htmltools\"     \"httr\"          \"ids\"          \n",
       " [45] \"IRdisplay\"     \"IRkernel\"      \"isoband\"       \"jquerylib\"    \n",
       " [49] \"jsonlite\"      \"knitr\"         \"labeling\"      \"lifecycle\"    \n",
       " [53] \"lubridate\"     \"magrittr\"      \"memoise\"       \"mime\"         \n",
       " [57] \"modelr\"        \"munsell\"       \"openssl\"       \"pbdZMQ\"       \n",
       " [61] \"pillar\"        \"pkgconfig\"     \"prettyunits\"   \"processx\"     \n",
       " [65] \"progress\"      \"ps\"            \"purrr\"         \"R6\"           \n",
       " [69] \"ragg\"          \"rappdirs\"      \"RColorBrewer\"  \"readr\"        \n",
       " [73] \"readxl\"        \"rematch\"       \"rematch2\"      \"renv\"         \n",
       " [77] \"repr\"          \"reprex\"        \"rlang\"         \"rmarkdown\"    \n",
       " [81] \"rstudioapi\"    \"rvest\"         \"sass\"          \"scales\"       \n",
       " [85] \"selectr\"       \"stringi\"       \"stringr\"       \"sys\"          \n",
       " [89] \"systemfonts\"   \"textshaping\"   \"tibble\"        \"tidyr\"        \n",
       " [93] \"tidyselect\"    \"tidyverse\"     \"timechange\"    \"tinytex\"      \n",
       " [97] \"tzdb\"          \"utf8\"          \"uuid\"          \"vctrs\"        \n",
       "[101] \"viridisLite\"   \"vroom\"         \"withr\"         \"xfun\"         \n",
       "[105] \"xml2\"          \"yaml\"          \"base\"          \"boot\"         \n",
       "[109] \"class\"         \"cluster\"       \"codetools\"     \"compiler\"     \n",
       "[113] \"datasets\"      \"foreign\"       \"graphics\"      \"grDevices\"    \n",
       "[117] \"grid\"          \"KernSmooth\"    \"lattice\"       \"MASS\"         \n",
       "[121] \"Matrix\"        \"methods\"       \"mgcv\"          \"nlme\"         \n",
       "[125] \"nnet\"          \"parallel\"      \"rpart\"         \"spatial\"      \n",
       "[129] \"splines\"       \"stats\"         \"stats4\"        \"survival\"     \n",
       "[133] \"tcltk\"         \"tools\"         \"utils\"        "
      ]
     },
     "metadata": {},
     "output_type": "display_data"
    }
   ],
   "source": [
    "# Confirm that only the tidyverse packages and their dependencies are here\n",
    "\n",
    "installed.packages() |> rownames()"
   ]
  },
  {
   "cell_type": "markdown",
   "id": "589861d9-2dcd-4a12-be77-b780a6fdfa32",
   "metadata": {},
   "source": [
    "**Note:** I have a lot of packages installed globally, including lots from bioconductor. These are\n",
    "not visible here. Therefore, we are successfully running an R kernel inside the renv.\n",
    "\n",
    "You're also going to most likely want to set up an `.renvignore` rather than just relying on it\n",
    "parsing your `.gitignore`. renv has a hard time parsing large files and it appears to lock\n",
    "the R terminal when that happens. You can use my example: [.renvignore](.renvignore)."
   ]
  },
  {
   "cell_type": "code",
   "execution_count": 8,
   "id": "22e03dc8-358c-4dcf-b70a-940e6cd084ed",
   "metadata": {},
   "outputs": [
    {
     "name": "stdout",
     "output_type": "stream",
     "text": [
      "The following package(s) are in an inconsistent state:\n",
      "\n",
      " package   installed recorded used\n",
      " base64enc y         n        y   \n",
      " cli       y         n        y   \n",
      " crayon    y         n        y   \n",
      " digest    y         n        y   \n",
      " evaluate  y         n        y   \n",
      " fansi     y         n        y   \n",
      " fastmap   y         n        y   \n",
      " glue      y         n        y   \n",
      " htmltools y         n        y   \n",
      " IRdisplay y         n        y   \n",
      " IRkernel  y         n        y   \n",
      " jsonlite  y         n        y   \n",
      " lifecycle y         n        y   \n",
      " pbdZMQ    y         n        y   \n",
      " pillar    y         n        y   \n",
      " repr      y         n        y   \n",
      " rlang     y         n        y   \n",
      " utf8      y         n        y   \n",
      " uuid      y         n        y   \n",
      " vctrs     y         n        y   \n",
      "\n",
      "See ?renv::status() for advice on resolving these issues.\n"
     ]
    }
   ],
   "source": [
    "# This tells you the status of packages in the lockfile vs what's used\n",
    "\n",
    "renv::status()"
   ]
  },
  {
   "cell_type": "markdown",
   "id": "7af5c841-5dd3-4ddd-9460-37144cfbce05",
   "metadata": {},
   "source": [
    "**Result:** renv notices that we're using jupyter notebooks, and these packages are dependencies of the R kernel. It is expected."
   ]
  },
  {
   "cell_type": "markdown",
   "id": "eb492aae-1cdc-4dac-8472-1d99948067bf",
   "metadata": {},
   "source": [
    "### Load Required Libraries"
   ]
  },
  {
   "cell_type": "code",
   "execution_count": 9,
   "id": "566020df-1d32-4e68-bf1e-649607edb712",
   "metadata": {},
   "outputs": [
    {
     "name": "stderr",
     "output_type": "stream",
     "text": [
      "── \u001b[1mAttaching core tidyverse packages\u001b[22m ──────────────────────────────────────────── tidyverse 2.0.0 ──\n",
      "\u001b[32m✔\u001b[39m \u001b[34mdplyr    \u001b[39m 1.1.4     \u001b[32m✔\u001b[39m \u001b[34mreadr    \u001b[39m 2.1.5\n",
      "\u001b[32m✔\u001b[39m \u001b[34mforcats  \u001b[39m 1.0.0     \u001b[32m✔\u001b[39m \u001b[34mstringr  \u001b[39m 1.5.1\n",
      "\u001b[32m✔\u001b[39m \u001b[34mggplot2  \u001b[39m 3.5.1     \u001b[32m✔\u001b[39m \u001b[34mtibble   \u001b[39m 3.2.1\n",
      "\u001b[32m✔\u001b[39m \u001b[34mlubridate\u001b[39m 1.9.3     \u001b[32m✔\u001b[39m \u001b[34mtidyr    \u001b[39m 1.3.1\n",
      "\u001b[32m✔\u001b[39m \u001b[34mpurrr    \u001b[39m 1.0.2     \n",
      "── \u001b[1mConflicts\u001b[22m ────────────────────────────────────────────────────────────── tidyverse_conflicts() ──\n",
      "\u001b[31m✖\u001b[39m \u001b[34mdplyr\u001b[39m::\u001b[32mfilter()\u001b[39m masks \u001b[34mstats\u001b[39m::filter()\n",
      "\u001b[31m✖\u001b[39m \u001b[34mdplyr\u001b[39m::\u001b[32mlag()\u001b[39m    masks \u001b[34mstats\u001b[39m::lag()\n",
      "\u001b[36mℹ\u001b[39m Use the conflicted package (\u001b[3m\u001b[34m<http://conflicted.r-lib.org/>\u001b[39m\u001b[23m) to force all conflicts to become errors\n"
     ]
    }
   ],
   "source": [
    "library(tidyverse)"
   ]
  },
  {
   "cell_type": "markdown",
   "id": "53adb6de-e210-47d2-ad28-a9903a9ccbdd",
   "metadata": {},
   "source": [
    "### Get Some Test Data\n",
    "We can just use the same test data, which has been saved in the `test_data` folder."
   ]
  },
  {
   "cell_type": "code",
   "execution_count": 11,
   "id": "67225c10-a09a-42e3-8982-d454a7c95253",
   "metadata": {},
   "outputs": [
    {
     "name": "stderr",
     "output_type": "stream",
     "text": [
      "\u001b[1mRows: \u001b[22m\u001b[34m891\u001b[39m \u001b[1mColumns: \u001b[22m\u001b[34m12\u001b[39m\n",
      "\u001b[36m──\u001b[39m \u001b[1mColumn specification\u001b[22m \u001b[36m────────────────────────────────────────────────────────────────────────────\u001b[39m\n",
      "\u001b[1mDelimiter:\u001b[22m \",\"\n",
      "\u001b[31mchr\u001b[39m (5): Name, Sex, Ticket, Cabin, Embarked\n",
      "\u001b[32mdbl\u001b[39m (7): PassengerId, Survived, Pclass, Age, SibSp, Parch, Fare\n",
      "\n",
      "\u001b[36mℹ\u001b[39m Use `spec()` to retrieve the full column specification for this data.\n",
      "\u001b[36mℹ\u001b[39m Specify the column types or set `show_col_types = FALSE` to quiet this message.\n"
     ]
    }
   ],
   "source": [
    "# Load the same test dataset\n",
    "\n",
    "titanic <- read_csv(\"test_data/titanic.csv\")"
   ]
  },
  {
   "cell_type": "code",
   "execution_count": 13,
   "id": "2a82124d-37ba-4c44-98eb-b206b50232bc",
   "metadata": {},
   "outputs": [
    {
     "data": {
      "text/html": [
       "<table class=\"dataframe\">\n",
       "<caption>A tibble: 6 × 12</caption>\n",
       "<thead>\n",
       "\t<tr><th scope=col>PassengerId</th><th scope=col>Survived</th><th scope=col>Pclass</th><th scope=col>Name</th><th scope=col>Sex</th><th scope=col>Age</th><th scope=col>SibSp</th><th scope=col>Parch</th><th scope=col>Ticket</th><th scope=col>Fare</th><th scope=col>Cabin</th><th scope=col>Embarked</th></tr>\n",
       "\t<tr><th scope=col>&lt;dbl&gt;</th><th scope=col>&lt;dbl&gt;</th><th scope=col>&lt;dbl&gt;</th><th scope=col>&lt;chr&gt;</th><th scope=col>&lt;chr&gt;</th><th scope=col>&lt;dbl&gt;</th><th scope=col>&lt;dbl&gt;</th><th scope=col>&lt;dbl&gt;</th><th scope=col>&lt;chr&gt;</th><th scope=col>&lt;dbl&gt;</th><th scope=col>&lt;chr&gt;</th><th scope=col>&lt;chr&gt;</th></tr>\n",
       "</thead>\n",
       "<tbody>\n",
       "\t<tr><td>1</td><td>0</td><td>3</td><td>Braund, Mr. Owen Harris                            </td><td>male  </td><td>22</td><td>1</td><td>0</td><td>A/5 21171       </td><td> 7.2500</td><td>NA  </td><td>S</td></tr>\n",
       "\t<tr><td>2</td><td>1</td><td>1</td><td>Cumings, Mrs. John Bradley (Florence Briggs Thayer)</td><td>female</td><td>38</td><td>1</td><td>0</td><td>PC 17599        </td><td>71.2833</td><td>C85 </td><td>C</td></tr>\n",
       "\t<tr><td>3</td><td>1</td><td>3</td><td>Heikkinen, Miss. Laina                             </td><td>female</td><td>26</td><td>0</td><td>0</td><td>STON/O2. 3101282</td><td> 7.9250</td><td>NA  </td><td>S</td></tr>\n",
       "\t<tr><td>4</td><td>1</td><td>1</td><td>Futrelle, Mrs. Jacques Heath (Lily May Peel)       </td><td>female</td><td>35</td><td>1</td><td>0</td><td>113803          </td><td>53.1000</td><td>C123</td><td>S</td></tr>\n",
       "\t<tr><td>5</td><td>0</td><td>3</td><td>Allen, Mr. William Henry                           </td><td>male  </td><td>35</td><td>0</td><td>0</td><td>373450          </td><td> 8.0500</td><td>NA  </td><td>S</td></tr>\n",
       "\t<tr><td>6</td><td>0</td><td>3</td><td>Moran, Mr. James                                   </td><td>male  </td><td>NA</td><td>0</td><td>0</td><td>330877          </td><td> 8.4583</td><td>NA  </td><td>Q</td></tr>\n",
       "</tbody>\n",
       "</table>\n"
      ],
      "text/latex": [
       "A tibble: 6 × 12\n",
       "\\begin{tabular}{llllllllllll}\n",
       " PassengerId & Survived & Pclass & Name & Sex & Age & SibSp & Parch & Ticket & Fare & Cabin & Embarked\\\\\n",
       " <dbl> & <dbl> & <dbl> & <chr> & <chr> & <dbl> & <dbl> & <dbl> & <chr> & <dbl> & <chr> & <chr>\\\\\n",
       "\\hline\n",
       "\t 1 & 0 & 3 & Braund, Mr. Owen Harris                             & male   & 22 & 1 & 0 & A/5 21171        &  7.2500 & NA   & S\\\\\n",
       "\t 2 & 1 & 1 & Cumings, Mrs. John Bradley (Florence Briggs Thayer) & female & 38 & 1 & 0 & PC 17599         & 71.2833 & C85  & C\\\\\n",
       "\t 3 & 1 & 3 & Heikkinen, Miss. Laina                              & female & 26 & 0 & 0 & STON/O2. 3101282 &  7.9250 & NA   & S\\\\\n",
       "\t 4 & 1 & 1 & Futrelle, Mrs. Jacques Heath (Lily May Peel)        & female & 35 & 1 & 0 & 113803           & 53.1000 & C123 & S\\\\\n",
       "\t 5 & 0 & 3 & Allen, Mr. William Henry                            & male   & 35 & 0 & 0 & 373450           &  8.0500 & NA   & S\\\\\n",
       "\t 6 & 0 & 3 & Moran, Mr. James                                    & male   & NA & 0 & 0 & 330877           &  8.4583 & NA   & Q\\\\\n",
       "\\end{tabular}\n"
      ],
      "text/markdown": [
       "\n",
       "A tibble: 6 × 12\n",
       "\n",
       "| PassengerId &lt;dbl&gt; | Survived &lt;dbl&gt; | Pclass &lt;dbl&gt; | Name &lt;chr&gt; | Sex &lt;chr&gt; | Age &lt;dbl&gt; | SibSp &lt;dbl&gt; | Parch &lt;dbl&gt; | Ticket &lt;chr&gt; | Fare &lt;dbl&gt; | Cabin &lt;chr&gt; | Embarked &lt;chr&gt; |\n",
       "|---|---|---|---|---|---|---|---|---|---|---|---|\n",
       "| 1 | 0 | 3 | Braund, Mr. Owen Harris                             | male   | 22 | 1 | 0 | A/5 21171        |  7.2500 | NA   | S |\n",
       "| 2 | 1 | 1 | Cumings, Mrs. John Bradley (Florence Briggs Thayer) | female | 38 | 1 | 0 | PC 17599         | 71.2833 | C85  | C |\n",
       "| 3 | 1 | 3 | Heikkinen, Miss. Laina                              | female | 26 | 0 | 0 | STON/O2. 3101282 |  7.9250 | NA   | S |\n",
       "| 4 | 1 | 1 | Futrelle, Mrs. Jacques Heath (Lily May Peel)        | female | 35 | 1 | 0 | 113803           | 53.1000 | C123 | S |\n",
       "| 5 | 0 | 3 | Allen, Mr. William Henry                            | male   | 35 | 0 | 0 | 373450           |  8.0500 | NA   | S |\n",
       "| 6 | 0 | 3 | Moran, Mr. James                                    | male   | NA | 0 | 0 | 330877           |  8.4583 | NA   | Q |\n",
       "\n"
      ],
      "text/plain": [
       "  PassengerId Survived Pclass\n",
       "1 1           0        3     \n",
       "2 2           1        1     \n",
       "3 3           1        3     \n",
       "4 4           1        1     \n",
       "5 5           0        3     \n",
       "6 6           0        3     \n",
       "  Name                                                Sex    Age SibSp Parch\n",
       "1 Braund, Mr. Owen Harris                             male   22  1     0    \n",
       "2 Cumings, Mrs. John Bradley (Florence Briggs Thayer) female 38  1     0    \n",
       "3 Heikkinen, Miss. Laina                              female 26  0     0    \n",
       "4 Futrelle, Mrs. Jacques Heath (Lily May Peel)        female 35  1     0    \n",
       "5 Allen, Mr. William Henry                            male   35  0     0    \n",
       "6 Moran, Mr. James                                    male   NA  0     0    \n",
       "  Ticket           Fare    Cabin Embarked\n",
       "1 A/5 21171         7.2500 NA    S       \n",
       "2 PC 17599         71.2833 C85   C       \n",
       "3 STON/O2. 3101282  7.9250 NA    S       \n",
       "4 113803           53.1000 C123  S       \n",
       "5 373450            8.0500 NA    S       \n",
       "6 330877            8.4583 NA    Q       "
      ]
     },
     "metadata": {},
     "output_type": "display_data"
    }
   ],
   "source": [
    "titanic |> head()"
   ]
  },
  {
   "cell_type": "code",
   "execution_count": 16,
   "id": "c5a9e31c-6607-42fa-82c3-e07e582dbee4",
   "metadata": {},
   "outputs": [
    {
     "data": {
      "text/plain": [
       "  PassengerId       Survived          Pclass          Name          \n",
       " Min.   :  1.0   Min.   :0.0000   Min.   :1.000   Length:891        \n",
       " 1st Qu.:223.5   1st Qu.:0.0000   1st Qu.:2.000   Class :character  \n",
       " Median :446.0   Median :0.0000   Median :3.000   Mode  :character  \n",
       " Mean   :446.0   Mean   :0.3838   Mean   :2.309                     \n",
       " 3rd Qu.:668.5   3rd Qu.:1.0000   3rd Qu.:3.000                     \n",
       " Max.   :891.0   Max.   :1.0000   Max.   :3.000                     \n",
       "                                                                    \n",
       "     Sex                 Age            SibSp           Parch       \n",
       " Length:891         Min.   : 0.42   Min.   :0.000   Min.   :0.0000  \n",
       " Class :character   1st Qu.:20.12   1st Qu.:0.000   1st Qu.:0.0000  \n",
       " Mode  :character   Median :28.00   Median :0.000   Median :0.0000  \n",
       "                    Mean   :29.70   Mean   :0.523   Mean   :0.3816  \n",
       "                    3rd Qu.:38.00   3rd Qu.:1.000   3rd Qu.:0.0000  \n",
       "                    Max.   :80.00   Max.   :8.000   Max.   :6.0000  \n",
       "                    NA's   :177                                     \n",
       "    Ticket               Fare           Cabin             Embarked        \n",
       " Length:891         Min.   :  0.00   Length:891         Length:891        \n",
       " Class :character   1st Qu.:  7.91   Class :character   Class :character  \n",
       " Mode  :character   Median : 14.45   Mode  :character   Mode  :character  \n",
       "                    Mean   : 32.20                                        \n",
       "                    3rd Qu.: 31.00                                        \n",
       "                    Max.   :512.33                                        \n",
       "                                                                          "
      ]
     },
     "metadata": {},
     "output_type": "display_data"
    }
   ],
   "source": [
    "titanic |> summary()"
   ]
  },
  {
   "cell_type": "markdown",
   "id": "2be61844-b655-4b22-b8c9-42dcefdfb4ee",
   "metadata": {},
   "source": [
    "### Do Some \"Analysis\"\n",
    "Question: Did different classes have different survival rates?"
   ]
  },
  {
   "cell_type": "code",
   "execution_count": 17,
   "id": "ffbc0f97-b138-4271-8447-b5c6690bdbc3",
   "metadata": {},
   "outputs": [],
   "source": [
    "# Make a copy for further use\n",
    "\n",
    "titanic_survival <- titanic"
   ]
  },
  {
   "cell_type": "code",
   "execution_count": 18,
   "id": "077b7f2f-7c4e-4884-9e88-05b579f81f55",
   "metadata": {},
   "outputs": [],
   "source": [
    "# Convert the survived to boolean\n",
    "\n",
    "titanic_survival$Survived <- titanic_survival$Survived |> as.logical()"
   ]
  },
  {
   "cell_type": "code",
   "execution_count": 33,
   "id": "070ad27d-99a3-46ea-9bdf-814a716ebc45",
   "metadata": {},
   "outputs": [
    {
     "data": {
      "text/html": [
       "<table class=\"dataframe\">\n",
       "<caption>A spec_tbl_df: 6 × 3</caption>\n",
       "<thead>\n",
       "\t<tr><th scope=col>Pclass</th><th scope=col>Survived</th><th scope=col>n</th></tr>\n",
       "\t<tr><th scope=col>&lt;dbl&gt;</th><th scope=col>&lt;lgl&gt;</th><th scope=col>&lt;int&gt;</th></tr>\n",
       "</thead>\n",
       "<tbody>\n",
       "\t<tr><td>1</td><td>FALSE</td><td> 80</td></tr>\n",
       "\t<tr><td>1</td><td> TRUE</td><td>136</td></tr>\n",
       "\t<tr><td>2</td><td>FALSE</td><td> 97</td></tr>\n",
       "\t<tr><td>2</td><td> TRUE</td><td> 87</td></tr>\n",
       "\t<tr><td>3</td><td>FALSE</td><td>372</td></tr>\n",
       "\t<tr><td>3</td><td> TRUE</td><td>119</td></tr>\n",
       "</tbody>\n",
       "</table>\n"
      ],
      "text/latex": [
       "A spec\\_tbl\\_df: 6 × 3\n",
       "\\begin{tabular}{lll}\n",
       " Pclass & Survived & n\\\\\n",
       " <dbl> & <lgl> & <int>\\\\\n",
       "\\hline\n",
       "\t 1 & FALSE &  80\\\\\n",
       "\t 1 &  TRUE & 136\\\\\n",
       "\t 2 & FALSE &  97\\\\\n",
       "\t 2 &  TRUE &  87\\\\\n",
       "\t 3 & FALSE & 372\\\\\n",
       "\t 3 &  TRUE & 119\\\\\n",
       "\\end{tabular}\n"
      ],
      "text/markdown": [
       "\n",
       "A spec_tbl_df: 6 × 3\n",
       "\n",
       "| Pclass &lt;dbl&gt; | Survived &lt;lgl&gt; | n &lt;int&gt; |\n",
       "|---|---|---|\n",
       "| 1 | FALSE |  80 |\n",
       "| 1 |  TRUE | 136 |\n",
       "| 2 | FALSE |  97 |\n",
       "| 2 |  TRUE |  87 |\n",
       "| 3 | FALSE | 372 |\n",
       "| 3 |  TRUE | 119 |\n",
       "\n"
      ],
      "text/plain": [
       "  Pclass Survived n  \n",
       "1 1      FALSE     80\n",
       "2 1       TRUE    136\n",
       "3 2      FALSE     97\n",
       "4 2       TRUE     87\n",
       "5 3      FALSE    372\n",
       "6 3       TRUE    119"
      ]
     },
     "metadata": {},
     "output_type": "display_data"
    }
   ],
   "source": [
    "# Perform the same \"analysis\" as in Python\n",
    "\n",
    "titanic_survival <- titanic_survival |>\n",
    "    count(Pclass, Survived)\n",
    "\n",
    "titanic_survival"
   ]
  },
  {
   "cell_type": "code",
   "execution_count": 63,
   "id": "0e177443-d2e3-418e-bea1-410e5a58551d",
   "metadata": {},
   "outputs": [
    {
     "data": {
      "text/html": [
       "<table class=\"dataframe\">\n",
       "<caption>A tibble: 6 × 4</caption>\n",
       "<thead>\n",
       "\t<tr><th scope=col>Pclass</th><th scope=col>Survived</th><th scope=col>n</th><th scope=col>Percentage</th></tr>\n",
       "\t<tr><th scope=col>&lt;dbl&gt;</th><th scope=col>&lt;lgl&gt;</th><th scope=col>&lt;int&gt;</th><th scope=col>&lt;dbl&gt;</th></tr>\n",
       "</thead>\n",
       "<tbody>\n",
       "\t<tr><td>1</td><td>FALSE</td><td> 80</td><td>37.03704</td></tr>\n",
       "\t<tr><td>1</td><td> TRUE</td><td>136</td><td>62.96296</td></tr>\n",
       "\t<tr><td>2</td><td>FALSE</td><td> 97</td><td>52.71739</td></tr>\n",
       "\t<tr><td>2</td><td> TRUE</td><td> 87</td><td>47.28261</td></tr>\n",
       "\t<tr><td>3</td><td>FALSE</td><td>372</td><td>75.76375</td></tr>\n",
       "\t<tr><td>3</td><td> TRUE</td><td>119</td><td>24.23625</td></tr>\n",
       "</tbody>\n",
       "</table>\n"
      ],
      "text/latex": [
       "A tibble: 6 × 4\n",
       "\\begin{tabular}{llll}\n",
       " Pclass & Survived & n & Percentage\\\\\n",
       " <dbl> & <lgl> & <int> & <dbl>\\\\\n",
       "\\hline\n",
       "\t 1 & FALSE &  80 & 37.03704\\\\\n",
       "\t 1 &  TRUE & 136 & 62.96296\\\\\n",
       "\t 2 & FALSE &  97 & 52.71739\\\\\n",
       "\t 2 &  TRUE &  87 & 47.28261\\\\\n",
       "\t 3 & FALSE & 372 & 75.76375\\\\\n",
       "\t 3 &  TRUE & 119 & 24.23625\\\\\n",
       "\\end{tabular}\n"
      ],
      "text/markdown": [
       "\n",
       "A tibble: 6 × 4\n",
       "\n",
       "| Pclass &lt;dbl&gt; | Survived &lt;lgl&gt; | n &lt;int&gt; | Percentage &lt;dbl&gt; |\n",
       "|---|---|---|---|\n",
       "| 1 | FALSE |  80 | 37.03704 |\n",
       "| 1 |  TRUE | 136 | 62.96296 |\n",
       "| 2 | FALSE |  97 | 52.71739 |\n",
       "| 2 |  TRUE |  87 | 47.28261 |\n",
       "| 3 | FALSE | 372 | 75.76375 |\n",
       "| 3 |  TRUE | 119 | 24.23625 |\n",
       "\n"
      ],
      "text/plain": [
       "  Pclass Survived n   Percentage\n",
       "1 1      FALSE     80 37.03704  \n",
       "2 1       TRUE    136 62.96296  \n",
       "3 2      FALSE     97 52.71739  \n",
       "4 2       TRUE     87 47.28261  \n",
       "5 3      FALSE    372 75.76375  \n",
       "6 3       TRUE    119 24.23625  "
      ]
     },
     "metadata": {},
     "output_type": "display_data"
    }
   ],
   "source": [
    "titanic_survival |> head()"
   ]
  },
  {
   "cell_type": "code",
   "execution_count": 67,
   "id": "4bccdb3a-a617-4294-a438-63ea0fc1c3df",
   "metadata": {},
   "outputs": [
    {
     "data": {
      "text/html": [
       "<table class=\"dataframe\">\n",
       "<caption>A tibble: 6 × 4</caption>\n",
       "<thead>\n",
       "\t<tr><th scope=col>Pclass</th><th scope=col>Survived</th><th scope=col>n</th><th scope=col>Percentage</th></tr>\n",
       "\t<tr><th scope=col>&lt;dbl&gt;</th><th scope=col>&lt;lgl&gt;</th><th scope=col>&lt;int&gt;</th><th scope=col>&lt;dbl&gt;</th></tr>\n",
       "</thead>\n",
       "<tbody>\n",
       "\t<tr><td>1</td><td>FALSE</td><td> 80</td><td>37.03704</td></tr>\n",
       "\t<tr><td>1</td><td> TRUE</td><td>136</td><td>62.96296</td></tr>\n",
       "\t<tr><td>2</td><td>FALSE</td><td> 97</td><td>52.71739</td></tr>\n",
       "\t<tr><td>2</td><td> TRUE</td><td> 87</td><td>47.28261</td></tr>\n",
       "\t<tr><td>3</td><td>FALSE</td><td>372</td><td>75.76375</td></tr>\n",
       "\t<tr><td>3</td><td> TRUE</td><td>119</td><td>24.23625</td></tr>\n",
       "</tbody>\n",
       "</table>\n"
      ],
      "text/latex": [
       "A tibble: 6 × 4\n",
       "\\begin{tabular}{llll}\n",
       " Pclass & Survived & n & Percentage\\\\\n",
       " <dbl> & <lgl> & <int> & <dbl>\\\\\n",
       "\\hline\n",
       "\t 1 & FALSE &  80 & 37.03704\\\\\n",
       "\t 1 &  TRUE & 136 & 62.96296\\\\\n",
       "\t 2 & FALSE &  97 & 52.71739\\\\\n",
       "\t 2 &  TRUE &  87 & 47.28261\\\\\n",
       "\t 3 & FALSE & 372 & 75.76375\\\\\n",
       "\t 3 &  TRUE & 119 & 24.23625\\\\\n",
       "\\end{tabular}\n"
      ],
      "text/markdown": [
       "\n",
       "A tibble: 6 × 4\n",
       "\n",
       "| Pclass &lt;dbl&gt; | Survived &lt;lgl&gt; | n &lt;int&gt; | Percentage &lt;dbl&gt; |\n",
       "|---|---|---|---|\n",
       "| 1 | FALSE |  80 | 37.03704 |\n",
       "| 1 |  TRUE | 136 | 62.96296 |\n",
       "| 2 | FALSE |  97 | 52.71739 |\n",
       "| 2 |  TRUE |  87 | 47.28261 |\n",
       "| 3 | FALSE | 372 | 75.76375 |\n",
       "| 3 |  TRUE | 119 | 24.23625 |\n",
       "\n"
      ],
      "text/plain": [
       "  Pclass Survived n   Percentage\n",
       "1 1      FALSE     80 37.03704  \n",
       "2 1       TRUE    136 62.96296  \n",
       "3 2      FALSE     97 52.71739  \n",
       "4 2       TRUE     87 47.28261  \n",
       "5 3      FALSE    372 75.76375  \n",
       "6 3       TRUE    119 24.23625  "
      ]
     },
     "metadata": {},
     "output_type": "display_data"
    }
   ],
   "source": [
    "# Add a column for percent survival\n",
    "\n",
    "titanic_survival <- titanic_survival |>\n",
    "    group_by(Pclass) |>\n",
    "    mutate(\n",
    "        Percentage = (n/sum(n) * 100)\n",
    "    ) |>\n",
    "    ungroup()\n",
    "\n",
    "titanic_survival"
   ]
  },
  {
   "cell_type": "markdown",
   "id": "62b02618-1206-40d4-93a4-7fa9155d85f5",
   "metadata": {},
   "source": [
    "**Result:** Same as before, I'm just far more familiar with the tidyverse syntax."
   ]
  },
  {
   "cell_type": "code",
   "execution_count": 41,
   "id": "a732de8d-60be-4552-bfb9-23a0be833636",
   "metadata": {},
   "outputs": [],
   "source": [
    "# Save as a csv\n",
    "\n",
    "titanic_survival |> write_csv(\"polyglot_jupyter_example_r/titanic_survival.csv\")"
   ]
  },
  {
   "cell_type": "markdown",
   "id": "1929eec9-1a90-4d40-bf35-8c8c60f87bf2",
   "metadata": {},
   "source": [
    "### Make Visualizations"
   ]
  },
  {
   "cell_type": "code",
   "execution_count": 70,
   "id": "382027b4-8909-4888-ac00-0a3faf4ec1e7",
   "metadata": {},
   "outputs": [
    {
     "data": {
      "text/html": [
       "<table class=\"dataframe\">\n",
       "<caption>A tibble: 12 × 5</caption>\n",
       "<thead>\n",
       "\t<tr><th scope=col>Pclass</th><th scope=col>Survived</th><th scope=col>Sex</th><th scope=col>n</th><th scope=col>Percentage</th></tr>\n",
       "\t<tr><th scope=col>&lt;dbl&gt;</th><th scope=col>&lt;lgl&gt;</th><th scope=col>&lt;chr&gt;</th><th scope=col>&lt;int&gt;</th><th scope=col>&lt;dbl&gt;</th></tr>\n",
       "</thead>\n",
       "<tbody>\n",
       "\t<tr><td>1</td><td>FALSE</td><td>female</td><td>  3</td><td> 3.191489</td></tr>\n",
       "\t<tr><td>1</td><td>FALSE</td><td>male  </td><td> 77</td><td>63.114754</td></tr>\n",
       "\t<tr><td>1</td><td> TRUE</td><td>female</td><td> 91</td><td>96.808511</td></tr>\n",
       "\t<tr><td>1</td><td> TRUE</td><td>male  </td><td> 45</td><td>36.885246</td></tr>\n",
       "\t<tr><td>2</td><td>FALSE</td><td>female</td><td>  6</td><td> 7.894737</td></tr>\n",
       "\t<tr><td>2</td><td>FALSE</td><td>male  </td><td> 91</td><td>84.259259</td></tr>\n",
       "\t<tr><td>2</td><td> TRUE</td><td>female</td><td> 70</td><td>92.105263</td></tr>\n",
       "\t<tr><td>2</td><td> TRUE</td><td>male  </td><td> 17</td><td>15.740741</td></tr>\n",
       "\t<tr><td>3</td><td>FALSE</td><td>female</td><td> 72</td><td>50.000000</td></tr>\n",
       "\t<tr><td>3</td><td>FALSE</td><td>male  </td><td>300</td><td>86.455331</td></tr>\n",
       "\t<tr><td>3</td><td> TRUE</td><td>female</td><td> 72</td><td>50.000000</td></tr>\n",
       "\t<tr><td>3</td><td> TRUE</td><td>male  </td><td> 47</td><td>13.544669</td></tr>\n",
       "</tbody>\n",
       "</table>\n"
      ],
      "text/latex": [
       "A tibble: 12 × 5\n",
       "\\begin{tabular}{lllll}\n",
       " Pclass & Survived & Sex & n & Percentage\\\\\n",
       " <dbl> & <lgl> & <chr> & <int> & <dbl>\\\\\n",
       "\\hline\n",
       "\t 1 & FALSE & female &   3 &  3.191489\\\\\n",
       "\t 1 & FALSE & male   &  77 & 63.114754\\\\\n",
       "\t 1 &  TRUE & female &  91 & 96.808511\\\\\n",
       "\t 1 &  TRUE & male   &  45 & 36.885246\\\\\n",
       "\t 2 & FALSE & female &   6 &  7.894737\\\\\n",
       "\t 2 & FALSE & male   &  91 & 84.259259\\\\\n",
       "\t 2 &  TRUE & female &  70 & 92.105263\\\\\n",
       "\t 2 &  TRUE & male   &  17 & 15.740741\\\\\n",
       "\t 3 & FALSE & female &  72 & 50.000000\\\\\n",
       "\t 3 & FALSE & male   & 300 & 86.455331\\\\\n",
       "\t 3 &  TRUE & female &  72 & 50.000000\\\\\n",
       "\t 3 &  TRUE & male   &  47 & 13.544669\\\\\n",
       "\\end{tabular}\n"
      ],
      "text/markdown": [
       "\n",
       "A tibble: 12 × 5\n",
       "\n",
       "| Pclass &lt;dbl&gt; | Survived &lt;lgl&gt; | Sex &lt;chr&gt; | n &lt;int&gt; | Percentage &lt;dbl&gt; |\n",
       "|---|---|---|---|---|\n",
       "| 1 | FALSE | female |   3 |  3.191489 |\n",
       "| 1 | FALSE | male   |  77 | 63.114754 |\n",
       "| 1 |  TRUE | female |  91 | 96.808511 |\n",
       "| 1 |  TRUE | male   |  45 | 36.885246 |\n",
       "| 2 | FALSE | female |   6 |  7.894737 |\n",
       "| 2 | FALSE | male   |  91 | 84.259259 |\n",
       "| 2 |  TRUE | female |  70 | 92.105263 |\n",
       "| 2 |  TRUE | male   |  17 | 15.740741 |\n",
       "| 3 | FALSE | female |  72 | 50.000000 |\n",
       "| 3 | FALSE | male   | 300 | 86.455331 |\n",
       "| 3 |  TRUE | female |  72 | 50.000000 |\n",
       "| 3 |  TRUE | male   |  47 | 13.544669 |\n",
       "\n"
      ],
      "text/plain": [
       "   Pclass Survived Sex    n   Percentage\n",
       "1  1      FALSE    female   3  3.191489 \n",
       "2  1      FALSE    male    77 63.114754 \n",
       "3  1       TRUE    female  91 96.808511 \n",
       "4  1       TRUE    male    45 36.885246 \n",
       "5  2      FALSE    female   6  7.894737 \n",
       "6  2      FALSE    male    91 84.259259 \n",
       "7  2       TRUE    female  70 92.105263 \n",
       "8  2       TRUE    male    17 15.740741 \n",
       "9  3      FALSE    female  72 50.000000 \n",
       "10 3      FALSE    male   300 86.455331 \n",
       "11 3       TRUE    female  72 50.000000 \n",
       "12 3       TRUE    male    47 13.544669 "
      ]
     },
     "metadata": {},
     "output_type": "display_data"
    }
   ],
   "source": [
    "# Get survival rate by class and sex\n",
    "\n",
    "titanic_survival_2 <- titanic |>\n",
    "    mutate(\n",
    "        Survived = as.logical(Survived)\n",
    "    ) |>\n",
    "    group_by(Pclass, Survived, Sex) |>\n",
    "    count() |>\n",
    "    group_by(Pclass, Sex) |>\n",
    "    mutate(\n",
    "        Percentage = (n/sum(n) * 100)\n",
    "    ) |>\n",
    "    ungroup()\n",
    "\n",
    "titanic_survival_2"
   ]
  },
  {
   "cell_type": "code",
   "execution_count": 154,
   "id": "8b0a84b5-ec31-4dc6-a2c3-8222e2101dd7",
   "metadata": {},
   "outputs": [
    {
     "data": {
      "image/png": "[encoded data removed]",
      "text/plain": [
       "plot without title"
      ]
     },
     "metadata": {
      "image/png": {
       "height": 420,
       "width": 420
      }
     },
     "output_type": "display_data"
    }
   ],
   "source": [
    "# Make a bar plot of survival rate by class and sex\n",
    "\n",
    "titanic_survival_2 |> filter(Survived) |>\n",
    "    ggplot(aes(\n",
    "        x = Pclass,\n",
    "        y = Percentage,\n",
    "        fill = Sex\n",
    "    )) +\n",
    "    geom_col(\n",
    "        position = \"dodge\"\n",
    "    ) +\n",
    "    scale_fill_brewer(\n",
    "        type = \"qual\",\n",
    "        palette = \"Dark2\"\n",
    "    ) +\n",
    "    labs(\n",
    "        title = \"Titanic Survival Rate\",\n",
    "        x = \"Passenger Class\"\n",
    "    ) +\n",
    "    theme_bw() "
   ]
  },
  {
   "cell_type": "markdown",
   "id": "482c76fb-eec5-478f-9453-7ca8395e0b01",
   "metadata": {},
   "source": [
    "**Note:** It's a little bit more verbose than seaborn in this instance, but ggplot2 has many more options. Sometimes things are easier in one or the other."
   ]
  },
  {
   "cell_type": "code",
   "execution_count": 104,
   "id": "ca2e4ca3-3475-4be4-a3c5-425e34fceab0",
   "metadata": {},
   "outputs": [
    {
     "name": "stderr",
     "output_type": "stream",
     "text": [
      "Warning message:\n",
      "“\u001b[1m\u001b[22mRemoved 177 rows containing missing values or values outside the scale range (`geom_point()`).”\n"
     ]
    },
    {
     "data": {
      "image/png": "[encoded data removed]",
      "text/plain": [
       "plot without title"
      ]
     },
     "metadata": {
      "image/png": {
       "height": 420,
       "width": 420
      }
     },
     "output_type": "display_data"
    }
   ],
   "source": [
    "# Plot the fare by class and age\n",
    "\n",
    "titanic |>\n",
    "    ggplot(aes(\n",
    "        x = Age,\n",
    "        y = Fare,\n",
    "        color = as.character(Pclass)\n",
    "    )) +\n",
    "    geom_point() +\n",
    "    scale_color_brewer(\n",
    "        type = \"qual\",\n",
    "        palette = \"Dark2\"\n",
    "    ) +\n",
    "    labs(\n",
    "        color = \"Passenger Class\"\n",
    "    ) +\n",
    "    theme_bw()"
   ]
  },
  {
   "cell_type": "code",
   "execution_count": 155,
   "id": "dc2d65ae-91e7-43a4-be41-3f524e75b4bd",
   "metadata": {},
   "outputs": [
    {
     "name": "stdout",
     "output_type": "stream",
     "text": [
      "The following package(s) will be installed:\n",
      "- ggbeeswarm [0.7.2]\n",
      "These packages will be installed into \"~/Development/github/polyglot_jupyter_example/renv/library/linux-ubuntu-focal/R-4.4/x86_64-pc-linux-gnu\".\n",
      "\n",
      "# Installing packages --------------------------------------------------------\n",
      "- Installing ggbeeswarm ...                     OK [linked from cache]\n",
      "Successfully installed 1 package in 12 milliseconds.\n"
     ]
    }
   ],
   "source": [
    "# To make the swarmplot we need ggbeeswarm\n",
    "install.packages(\"ggbeeswarm\")\n",
    "library(ggbeeswarm)"
   ]
  },
  {
   "cell_type": "code",
   "execution_count": 126,
   "id": "c55a5645-c7b8-4812-bedf-f6443d63b98e",
   "metadata": {},
   "outputs": [
    {
     "name": "stderr",
     "output_type": "stream",
     "text": [
      "Warning message:\n",
      "“\u001b[1m\u001b[22mRemoved 177 rows containing non-finite outside the scale range (`stat_ydensity()`).”\n",
      "Warning message:\n",
      "“\u001b[1m\u001b[22mRemoved 177 rows containing missing values or values outside the scale range (`geom_point()`).”\n"
     ]
    },
    {
     "data": {
      "image/png": "[encoded data removed]",
      "text/plain": [
       "plot without title"
      ]
     },
     "metadata": {
      "image/png": {
       "height": 420,
       "width": 420
      }
     },
     "output_type": "display_data"
    }
   ],
   "source": [
    "# Combination violin and swarmplot, just like the python example\n",
    "# Swarmplots are a separate package, this is an approximation with a dotplot instead\n",
    "\n",
    "titanic |>\n",
    "    ggplot(aes(\n",
    "        y = as.character(Pclass),\n",
    "        x = Age\n",
    "    )) +\n",
    "    geom_violin(\n",
    "        fill = \"lightgrey\",\n",
    "        trim = FALSE\n",
    "    ) +\n",
    "    geom_beeswarm(\n",
    "        color = \"dodgerblue3\"\n",
    "    ) +\n",
    "    labs(\n",
    "        y = \"Passenger Class\"\n",
    "    ) +\n",
    "    theme_bw()"
   ]
  },
  {
   "cell_type": "markdown",
   "id": "478c0a8c-95c0-4b0b-8630-900c36e0cbb9",
   "metadata": {},
   "source": [
    "### Conclusion\n",
    "\n",
    "Jupyter installed at the global/user level can indeed interact with an IR kernel within an renv."
   ]
  },
  {
   "cell_type": "markdown",
   "id": "0774923a-0a11-4e16-b811-01496604f7ff",
   "metadata": {},
   "source": [
    "### Document the Environment\n",
    "Running `renv::snapshot()` will update the [renv.lock](renv.lock). I like to ensure all the packages\n",
    "in the environment are captured with `type = \"all\"` to avoid parsing potentially large notebook files\n",
    "and just record everything installed in the environment.\n",
    "\n",
    "If you've like more intelligent behavior then also saving your notebook as a plain `.r` script and\n",
    "ignoring all `.ipynb` files in the project directory with your `.renvignore` should allow it to\n",
    "record packages and dependencies as intended. However, I opt here for completeness over succinctness."
   ]
  },
  {
   "cell_type": "code",
   "execution_count": 157,
   "id": "65b63096-d625-4d5c-b2c5-72bce7195924",
   "metadata": {},
   "outputs": [
    {
     "name": "stdout",
     "output_type": "stream",
     "text": [
      "The following package(s) will be updated in the lockfile:\n",
      "\n",
      "# CRAN -----------------------------------------------------------------------\n",
      "- askpass         [* -> 1.2.0]\n",
      "- backports       [* -> 1.5.0]\n",
      "- base64enc       [* -> 0.1-3]\n",
      "- beeswarm        [* -> 0.4.0]\n",
      "- bit             [* -> 4.0.5]\n",
      "- bit64           [* -> 4.0.5]\n",
      "- blob            [* -> 1.2.4]\n",
      "- boot            [* -> 1.3-30]\n",
      "- broom           [* -> 1.0.6]\n",
      "- bslib           [* -> 0.7.0]\n",
      "- cachem          [* -> 1.1.0]\n",
      "- callr           [* -> 3.7.6]\n",
      "- cellranger      [* -> 1.1.0]\n",
      "- class           [* -> 7.3-22]\n",
      "- cli             [* -> 3.6.2]\n",
      "- clipr           [* -> 0.8.0]\n",
      "- cluster         [* -> 2.1.6]\n",
      "- codetools       [* -> 0.2-20]\n",
      "- colorspace      [* -> 2.1-0]\n",
      "- conflicted      [* -> 1.2.0]\n",
      "- cpp11           [* -> 0.4.7]\n",
      "- crayon          [* -> 1.5.2]\n",
      "- curl            [* -> 5.2.1]\n",
      "- data.table      [* -> 1.15.4]\n",
      "- DBI             [* -> 1.2.2]\n",
      "- dbplyr          [* -> 2.5.0]\n",
      "- digest          [* -> 0.6.35]\n",
      "- dplyr           [* -> 1.1.4]\n",
      "- dtplyr          [* -> 1.3.1]\n",
      "- evaluate        [* -> 0.23]\n",
      "- fansi           [* -> 1.0.6]\n",
      "- farver          [* -> 2.1.2]\n",
      "- fastmap         [* -> 1.2.0]\n",
      "- fontawesome     [* -> 0.5.2]\n",
      "- forcats         [* -> 1.0.0]\n",
      "- foreign         [* -> 0.8-86]\n",
      "- fs              [* -> 1.6.4]\n",
      "- gargle          [* -> 1.5.2]\n",
      "- generics        [* -> 0.1.3]\n",
      "- ggbeeswarm      [* -> 0.7.2]\n",
      "- ggplot2         [* -> 3.5.1]\n",
      "- glue            [* -> 1.7.0]\n",
      "- googledrive     [* -> 2.1.1]\n",
      "- googlesheets4   [* -> 1.1.1]\n",
      "- gtable          [* -> 0.3.5]\n",
      "- haven           [* -> 2.5.4]\n",
      "- highr           [* -> 0.11]\n",
      "- hms             [* -> 1.1.3]\n",
      "- htmltools       [* -> 0.5.8.1]\n",
      "- httr            [* -> 1.4.7]\n",
      "- ids             [* -> 1.0.1]\n",
      "- IRdisplay       [* -> 1.1]\n",
      "- IRkernel        [* -> 1.3.2]\n",
      "- isoband         [* -> 0.2.7]\n",
      "- jquerylib       [* -> 0.1.4]\n",
      "- jsonlite        [* -> 1.8.8]\n",
      "- KernSmooth      [* -> 2.23-22]\n",
      "- knitr           [* -> 1.47]\n",
      "- labeling        [* -> 0.4.3]\n",
      "- lattice         [* -> 0.22-6]\n",
      "- lifecycle       [* -> 1.0.4]\n",
      "- lubridate       [* -> 1.9.3]\n",
      "- magrittr        [* -> 2.0.3]\n",
      "- MASS            [* -> 7.3-60.2]\n",
      "- Matrix          [* -> 1.7-0]\n",
      "- memoise         [* -> 2.0.1]\n",
      "- mgcv            [* -> 1.9-1]\n",
      "- mime            [* -> 0.12]\n",
      "- modelr          [* -> 0.1.11]\n",
      "- munsell         [* -> 0.5.1]\n",
      "- nlme            [* -> 3.1-164]\n",
      "- nnet            [* -> 7.3-19]\n",
      "- openssl         [* -> 2.2.0]\n",
      "- pbdZMQ          [* -> 0.3-11]\n",
      "- pillar          [* -> 1.9.0]\n",
      "- pkgconfig       [* -> 2.0.3]\n",
      "- prettyunits     [* -> 1.2.0]\n",
      "- processx        [* -> 3.8.4]\n",
      "- progress        [* -> 1.2.3]\n",
      "- ps              [* -> 1.7.6]\n",
      "- purrr           [* -> 1.0.2]\n",
      "- R6              [* -> 2.5.1]\n",
      "- ragg            [* -> 1.3.2]\n",
      "- rappdirs        [* -> 0.3.3]\n",
      "- RColorBrewer    [* -> 1.1-3]\n",
      "- readr           [* -> 2.1.5]\n",
      "- readxl          [* -> 1.4.3]\n",
      "- rematch         [* -> 2.0.0]\n",
      "- rematch2        [* -> 2.1.2]\n",
      "- repr            [* -> 1.1.7]\n",
      "- reprex          [* -> 2.1.0]\n",
      "- rlang           [* -> 1.1.3]\n",
      "- rmarkdown       [* -> 2.27]\n",
      "- rpart           [* -> 4.1.23]\n",
      "- rstudioapi      [* -> 0.16.0]\n",
      "- rvest           [* -> 1.0.4]\n",
      "- sass            [* -> 0.4.9]\n",
      "- scales          [* -> 1.3.0]\n",
      "- selectr         [* -> 0.4-2]\n",
      "- spatial         [* -> 7.3-17]\n",
      "- stringi         [* -> 1.8.4]\n",
      "- stringr         [* -> 1.5.1]\n",
      "- survival        [* -> 3.5-8]\n",
      "- sys             [* -> 3.4.2]\n",
      "- systemfonts     [* -> 1.1.0]\n",
      "- textshaping     [* -> 0.4.0]\n",
      "- tibble          [* -> 3.2.1]\n",
      "- tidyr           [* -> 1.3.1]\n",
      "- tidyselect      [* -> 1.2.1]\n",
      "- tidyverse       [* -> 2.0.0]\n",
      "- timechange      [* -> 0.3.0]\n",
      "- tinytex         [* -> 0.51]\n",
      "- tzdb            [* -> 0.4.0]\n",
      "- utf8            [* -> 1.2.4]\n",
      "- uuid            [* -> 1.2-0]\n",
      "- vctrs           [* -> 0.6.5]\n",
      "- vipor           [* -> 0.4.7]\n",
      "- viridisLite     [* -> 0.4.2]\n",
      "- vroom           [* -> 1.6.5]\n",
      "- withr           [* -> 3.0.0]\n",
      "- xfun            [* -> 0.44]\n",
      "- xml2            [* -> 1.3.6]\n",
      "- yaml            [* -> 2.3.8]\n",
      "\n",
      "# RSPM -----------------------------------------------------------------------\n",
      "- renv            [* -> 1.0.7]\n",
      "\n",
      "The version of R recorded in the lockfile will be updated:\n",
      "- R               [* -> 4.4.0]\n",
      "\n",
      "- Lockfile written to \"~/Development/github/polyglot_jupyter_example/renv.lock\".\n"
     ]
    }
   ],
   "source": [
    "# Update the lock file\n",
    "\n",
    "renv::snapshot(type = \"all\")"
   ]
  },
  {
   "cell_type": "markdown",
   "id": "608c6c8a-3c96-4fad-9ca8-b99a4613313c",
   "metadata": {},
   "source": [
    "You can restore an environment from the lockfile with `renv::restore()`."
   ]
  },
  {
   "cell_type": "code",
   "execution_count": 159,
   "id": "a7771bbf-a0c9-41f4-b68b-522b16378457",
   "metadata": {},
   "outputs": [],
   "source": [
    "# I also export the notebook as a .r script so it can be run without jupyter and .html so non-coders can view it\n",
    "\n",
    "system(\"jupyter nbconvert --to script --output-dir ./polyglot_jupyter_example_r/ polyglot_jupyter_example_r.ipynb\")\n",
    "system(\"jupyter nbconvert --to html --output-dir ./polyglot_jupyter_example_r/ polyglot_jupyter_example_r.ipynb\")"
   ]
  },
  {
   "cell_type": "code",
   "execution_count": 160,
   "id": "17fa0cb8-31cd-4d80-8664-0b0c2f8500ba",
   "metadata": {},
   "outputs": [
    {
     "data": {
      "text/plain": [
       "R version 4.4.0 (2024-04-24)\n",
       "Platform: x86_64-pc-linux-gnu\n",
       "Running under: Ubuntu 20.04.6 LTS\n",
       "\n",
       "Matrix products: default\n",
       "BLAS/LAPACK: /usr/lib/x86_64-linux-gnu/openblas-pthread/libopenblasp-r0.3.8.so;  LAPACK version 3.9.0\n",
       "\n",
       "locale:\n",
       " [1] LC_CTYPE=C.UTF-8       LC_NUMERIC=C           LC_TIME=C.UTF-8       \n",
       " [4] LC_COLLATE=C.UTF-8     LC_MONETARY=C.UTF-8    LC_MESSAGES=C.UTF-8   \n",
       " [7] LC_PAPER=C.UTF-8       LC_NAME=C              LC_ADDRESS=C          \n",
       "[10] LC_TELEPHONE=C         LC_MEASUREMENT=C.UTF-8 LC_IDENTIFICATION=C   \n",
       "\n",
       "time zone: America/New_York\n",
       "tzcode source: system (glibc)\n",
       "\n",
       "attached base packages:\n",
       "[1] stats     graphics  grDevices datasets  utils     methods   base     \n",
       "\n",
       "other attached packages:\n",
       " [1] ggbeeswarm_0.7.2 lubridate_1.9.3  forcats_1.0.0    stringr_1.5.1   \n",
       " [5] dplyr_1.1.4      purrr_1.0.2      readr_2.1.5      tidyr_1.3.1     \n",
       " [9] tibble_3.2.1     ggplot2_3.5.1    tidyverse_2.0.0 \n",
       "\n",
       "loaded via a namespace (and not attached):\n",
       " [1] gtable_0.3.5       beeswarm_0.4.0     xfun_0.44          htmlwidgets_1.6.4 \n",
       " [5] tzdb_0.4.0         vctrs_0.6.5        tools_4.4.0        generics_0.1.3    \n",
       " [9] parallel_4.4.0     fansi_1.0.6        cluster_2.1.6      pkgconfig_2.0.3   \n",
       "[13] data.table_1.15.4  checkmate_2.3.1    RColorBrewer_1.1-3 uuid_1.2-0        \n",
       "[17] lifecycle_1.0.4    compiler_4.4.0     farver_2.1.2       munsell_0.5.1     \n",
       "[21] repr_1.1.7         vipor_0.4.7        htmltools_0.5.8.1  htmlTable_2.4.2   \n",
       "[25] Formula_1.2-5      pillar_1.9.0       crayon_1.5.2       Hmisc_5.1-3       \n",
       "[29] rpart_4.1.23       tidyselect_1.2.1   digest_0.6.35      stringi_1.8.4     \n",
       "[33] labeling_0.4.3     fastmap_1.2.0      grid_4.4.0         colorspace_2.1-0  \n",
       "[37] cli_3.6.2          magrittr_2.0.3     base64enc_0.1-3    utf8_1.2.4        \n",
       "[41] IRdisplay_1.1      foreign_0.8-86     withr_3.0.0        scales_1.3.0      \n",
       "[45] backports_1.5.0    IRkernel_1.3.2     bit64_4.0.5        timechange_0.3.0  \n",
       "[49] rmarkdown_2.27     bit_4.0.5          nnet_7.3-19        gridExtra_2.3     \n",
       "[53] pbdZMQ_0.3-11      hms_1.1.3          evaluate_0.23      knitr_1.47        \n",
       "[57] rlang_1.1.3        glue_1.7.0         renv_1.0.7         rstudioapi_0.16.0 \n",
       "[61] vroom_1.6.5        jsonlite_1.8.8     R6_2.5.1          "
      ]
     },
     "metadata": {},
     "output_type": "display_data"
    }
   ],
   "source": [
    "sessionInfo()"
   ]
  }
 ],
 "metadata": {
  "kernelspec": {
   "display_name": "R",
   "language": "R",
   "name": "ir"
  },
  "language_info": {
   "codemirror_mode": "r",
   "file_extension": ".r",
   "mimetype": "text/x-r-source",
   "name": "R",
   "pygments_lexer": "r",
   "version": "4.4.0"
  }
 },
 "nbformat": 4,
 "nbformat_minor": 5
}
