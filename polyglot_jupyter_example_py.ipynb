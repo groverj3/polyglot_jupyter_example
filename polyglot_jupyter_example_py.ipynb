{
 "cells": [
  {
   "cell_type": "markdown",
   "id": "68c63ace-646c-4f5b-800b-cdfe9e51a4dc",
   "metadata": {},
   "source": [
    "# Python - Jupyter Project Environment\n",
    "## Author: Jeffrey Grover\n",
    "## Date: 2024-05-28\n",
    "### Purpose:\n",
    "This notebook demonstrates an example of a python data science/bioinformatics environment living\n",
    "peacefully alongside its neighbor, an R environment, in the same project. The idea is, if you like\n",
    "either language for different tasks then you can create well-documented environments for both in a\n",
    "single repo, and use each language when you so desire.\n",
    "\n",
    "This python example is intended to be run first."
   ]
  },
  {
   "cell_type": "markdown",
   "id": "f452c98d-549c-4111-8729-8e5c6cf5ea0e",
   "metadata": {},
   "source": [
    "### Get Some Test Data\n",
    "These commands actually run in your shell outside the notebook and the python virtualenv."
   ]
  },
  {
   "cell_type": "code",
   "execution_count": 1,
   "id": "1cac1678-4fea-456b-b2d8-d0992eb7c152",
   "metadata": {},
   "outputs": [
    {
     "name": "stdout",
     "output_type": "stream",
     "text": [
      "--2024-05-29 21:46:00--  https://github.com/pandas-dev/pandas/raw/main/doc/data/titanic.csv\n",
      "Resolving github.com (github.com)... 140.82.114.4\n",
      "Connecting to github.com (github.com)|140.82.114.4|:443... connected.\n",
      "HTTP request sent, awaiting response... 302 Found\n",
      "Location: https://raw.githubusercontent.com/pandas-dev/pandas/main/doc/data/titanic.csv [following]\n",
      "--2024-05-29 21:46:00--  https://raw.githubusercontent.com/pandas-dev/pandas/main/doc/data/titanic.csv\n",
      "Resolving raw.githubusercontent.com (raw.githubusercontent.com)... 185.199.109.133, 185.199.111.133, 185.199.110.133, ...\n",
      "Connecting to raw.githubusercontent.com (raw.githubusercontent.com)|185.199.109.133|:443... connected.\n",
      "HTTP request sent, awaiting response... 200 OK\n",
      "Length: 60302 (59K) [text/plain]\n",
      "Saving to: ‘test_data/titanic.csv’\n",
      "\n",
      "titanic.csv         100%[===================>]  58.89K  --.-KB/s    in 0.02s   \n",
      "\n",
      "2024-05-29 21:46:00 (3.82 MB/s) - ‘test_data/titanic.csv’ saved [60302/60302]\n",
      "\n"
     ]
    }
   ],
   "source": [
    "# This test dataset is striaght from the pandas docs: https://pandas.pydata.org/docs/getting_started/intro_tutorials/02_read_write.html\n",
    "\n",
    "! mkdir test_data\n",
    "! wget \"https://github.com/pandas-dev/pandas/raw/main/doc/data/titanic.csv\" -P test_data"
   ]
  },
  {
   "cell_type": "code",
   "execution_count": 2,
   "id": "2180db07-b4d0-4909-95c2-ce3f4ae2cf3b",
   "metadata": {},
   "outputs": [
    {
     "name": "stdout",
     "output_type": "stream",
     "text": [
      "titanic.csv\n"
     ]
    }
   ],
   "source": [
    "# Confirm that the test data was downloaded correctly\n",
    "\n",
    "! ls test_data/"
   ]
  },
  {
   "cell_type": "code",
   "execution_count": 16,
   "id": "7df6fb15-1fdd-4e48-82dd-53ad088840fd",
   "metadata": {},
   "outputs": [],
   "source": [
    "# Create a directory in which to place any results you wish to save\n",
    "# I name these the same as the notebook file\n",
    "\n",
    "! mkdir \"polyglot_jupyter_example_py\""
   ]
  },
  {
   "cell_type": "markdown",
   "id": "908028a6-d9b5-4097-b9d7-bacd6d213851",
   "metadata": {},
   "source": [
    "### Load Modules"
   ]
  },
  {
   "cell_type": "code",
   "execution_count": 3,
   "id": "0a6ca976-254d-4d7c-9730-4728a9fcd9b4",
   "metadata": {},
   "outputs": [],
   "source": [
    "# Load required modules\n",
    "\n",
    "import pandas as pd\n",
    "import seaborn as sns"
   ]
  },
  {
   "cell_type": "markdown",
   "id": "eb714b02-b782-4773-b014-d0e80dfa4328",
   "metadata": {},
   "source": [
    "### Load the Test Data"
   ]
  },
  {
   "cell_type": "code",
   "execution_count": 4,
   "id": "aeac6754-52df-401e-9252-172e3cbcf535",
   "metadata": {},
   "outputs": [],
   "source": [
    "# Load the test data from the directory we made earlier\n",
    "\n",
    "titanic = pd.read_csv(\"test_data/titanic.csv\")"
   ]
  },
  {
   "cell_type": "code",
   "execution_count": 5,
   "id": "d8a78376-298f-4249-9f78-6fb09261343f",
   "metadata": {},
   "outputs": [
    {
     "data": {
      "text/html": [
       "<div>\n",
       "<style scoped>\n",
       "    .dataframe tbody tr th:only-of-type {\n",
       "        vertical-align: middle;\n",
       "    }\n",
       "\n",
       "    .dataframe tbody tr th {\n",
       "        vertical-align: top;\n",
       "    }\n",
       "\n",
       "    .dataframe thead th {\n",
       "        text-align: right;\n",
       "    }\n",
       "</style>\n",
       "<table border=\"1\" class=\"dataframe\">\n",
       "  <thead>\n",
       "    <tr style=\"text-align: right;\">\n",
       "      <th></th>\n",
       "      <th>PassengerId</th>\n",
       "      <th>Survived</th>\n",
       "      <th>Pclass</th>\n",
       "      <th>Name</th>\n",
       "      <th>Sex</th>\n",
       "      <th>Age</th>\n",
       "      <th>SibSp</th>\n",
       "      <th>Parch</th>\n",
       "      <th>Ticket</th>\n",
       "      <th>Fare</th>\n",
       "      <th>Cabin</th>\n",
       "      <th>Embarked</th>\n",
       "    </tr>\n",
       "  </thead>\n",
       "  <tbody>\n",
       "    <tr>\n",
       "      <th>0</th>\n",
       "      <td>1</td>\n",
       "      <td>0</td>\n",
       "      <td>3</td>\n",
       "      <td>Braund, Mr. Owen Harris</td>\n",
       "      <td>male</td>\n",
       "      <td>22.0</td>\n",
       "      <td>1</td>\n",
       "      <td>0</td>\n",
       "      <td>A/5 21171</td>\n",
       "      <td>7.2500</td>\n",
       "      <td>NaN</td>\n",
       "      <td>S</td>\n",
       "    </tr>\n",
       "    <tr>\n",
       "      <th>1</th>\n",
       "      <td>2</td>\n",
       "      <td>1</td>\n",
       "      <td>1</td>\n",
       "      <td>Cumings, Mrs. John Bradley (Florence Briggs Th...</td>\n",
       "      <td>female</td>\n",
       "      <td>38.0</td>\n",
       "      <td>1</td>\n",
       "      <td>0</td>\n",
       "      <td>PC 17599</td>\n",
       "      <td>71.2833</td>\n",
       "      <td>C85</td>\n",
       "      <td>C</td>\n",
       "    </tr>\n",
       "    <tr>\n",
       "      <th>2</th>\n",
       "      <td>3</td>\n",
       "      <td>1</td>\n",
       "      <td>3</td>\n",
       "      <td>Heikkinen, Miss. Laina</td>\n",
       "      <td>female</td>\n",
       "      <td>26.0</td>\n",
       "      <td>0</td>\n",
       "      <td>0</td>\n",
       "      <td>STON/O2. 3101282</td>\n",
       "      <td>7.9250</td>\n",
       "      <td>NaN</td>\n",
       "      <td>S</td>\n",
       "    </tr>\n",
       "    <tr>\n",
       "      <th>3</th>\n",
       "      <td>4</td>\n",
       "      <td>1</td>\n",
       "      <td>1</td>\n",
       "      <td>Futrelle, Mrs. Jacques Heath (Lily May Peel)</td>\n",
       "      <td>female</td>\n",
       "      <td>35.0</td>\n",
       "      <td>1</td>\n",
       "      <td>0</td>\n",
       "      <td>113803</td>\n",
       "      <td>53.1000</td>\n",
       "      <td>C123</td>\n",
       "      <td>S</td>\n",
       "    </tr>\n",
       "    <tr>\n",
       "      <th>4</th>\n",
       "      <td>5</td>\n",
       "      <td>0</td>\n",
       "      <td>3</td>\n",
       "      <td>Allen, Mr. William Henry</td>\n",
       "      <td>male</td>\n",
       "      <td>35.0</td>\n",
       "      <td>0</td>\n",
       "      <td>0</td>\n",
       "      <td>373450</td>\n",
       "      <td>8.0500</td>\n",
       "      <td>NaN</td>\n",
       "      <td>S</td>\n",
       "    </tr>\n",
       "    <tr>\n",
       "      <th>...</th>\n",
       "      <td>...</td>\n",
       "      <td>...</td>\n",
       "      <td>...</td>\n",
       "      <td>...</td>\n",
       "      <td>...</td>\n",
       "      <td>...</td>\n",
       "      <td>...</td>\n",
       "      <td>...</td>\n",
       "      <td>...</td>\n",
       "      <td>...</td>\n",
       "      <td>...</td>\n",
       "      <td>...</td>\n",
       "    </tr>\n",
       "    <tr>\n",
       "      <th>886</th>\n",
       "      <td>887</td>\n",
       "      <td>0</td>\n",
       "      <td>2</td>\n",
       "      <td>Montvila, Rev. Juozas</td>\n",
       "      <td>male</td>\n",
       "      <td>27.0</td>\n",
       "      <td>0</td>\n",
       "      <td>0</td>\n",
       "      <td>211536</td>\n",
       "      <td>13.0000</td>\n",
       "      <td>NaN</td>\n",
       "      <td>S</td>\n",
       "    </tr>\n",
       "    <tr>\n",
       "      <th>887</th>\n",
       "      <td>888</td>\n",
       "      <td>1</td>\n",
       "      <td>1</td>\n",
       "      <td>Graham, Miss. Margaret Edith</td>\n",
       "      <td>female</td>\n",
       "      <td>19.0</td>\n",
       "      <td>0</td>\n",
       "      <td>0</td>\n",
       "      <td>112053</td>\n",
       "      <td>30.0000</td>\n",
       "      <td>B42</td>\n",
       "      <td>S</td>\n",
       "    </tr>\n",
       "    <tr>\n",
       "      <th>888</th>\n",
       "      <td>889</td>\n",
       "      <td>0</td>\n",
       "      <td>3</td>\n",
       "      <td>Johnston, Miss. Catherine Helen \"Carrie\"</td>\n",
       "      <td>female</td>\n",
       "      <td>NaN</td>\n",
       "      <td>1</td>\n",
       "      <td>2</td>\n",
       "      <td>W./C. 6607</td>\n",
       "      <td>23.4500</td>\n",
       "      <td>NaN</td>\n",
       "      <td>S</td>\n",
       "    </tr>\n",
       "    <tr>\n",
       "      <th>889</th>\n",
       "      <td>890</td>\n",
       "      <td>1</td>\n",
       "      <td>1</td>\n",
       "      <td>Behr, Mr. Karl Howell</td>\n",
       "      <td>male</td>\n",
       "      <td>26.0</td>\n",
       "      <td>0</td>\n",
       "      <td>0</td>\n",
       "      <td>111369</td>\n",
       "      <td>30.0000</td>\n",
       "      <td>C148</td>\n",
       "      <td>C</td>\n",
       "    </tr>\n",
       "    <tr>\n",
       "      <th>890</th>\n",
       "      <td>891</td>\n",
       "      <td>0</td>\n",
       "      <td>3</td>\n",
       "      <td>Dooley, Mr. Patrick</td>\n",
       "      <td>male</td>\n",
       "      <td>32.0</td>\n",
       "      <td>0</td>\n",
       "      <td>0</td>\n",
       "      <td>370376</td>\n",
       "      <td>7.7500</td>\n",
       "      <td>NaN</td>\n",
       "      <td>Q</td>\n",
       "    </tr>\n",
       "  </tbody>\n",
       "</table>\n",
       "<p>891 rows × 12 columns</p>\n",
       "</div>"
      ],
      "text/plain": [
       "     PassengerId  Survived  Pclass  \\\n",
       "0              1         0       3   \n",
       "1              2         1       1   \n",
       "2              3         1       3   \n",
       "3              4         1       1   \n",
       "4              5         0       3   \n",
       "..           ...       ...     ...   \n",
       "886          887         0       2   \n",
       "887          888         1       1   \n",
       "888          889         0       3   \n",
       "889          890         1       1   \n",
       "890          891         0       3   \n",
       "\n",
       "                                                  Name     Sex   Age  SibSp  \\\n",
       "0                              Braund, Mr. Owen Harris    male  22.0      1   \n",
       "1    Cumings, Mrs. John Bradley (Florence Briggs Th...  female  38.0      1   \n",
       "2                               Heikkinen, Miss. Laina  female  26.0      0   \n",
       "3         Futrelle, Mrs. Jacques Heath (Lily May Peel)  female  35.0      1   \n",
       "4                             Allen, Mr. William Henry    male  35.0      0   \n",
       "..                                                 ...     ...   ...    ...   \n",
       "886                              Montvila, Rev. Juozas    male  27.0      0   \n",
       "887                       Graham, Miss. Margaret Edith  female  19.0      0   \n",
       "888           Johnston, Miss. Catherine Helen \"Carrie\"  female   NaN      1   \n",
       "889                              Behr, Mr. Karl Howell    male  26.0      0   \n",
       "890                                Dooley, Mr. Patrick    male  32.0      0   \n",
       "\n",
       "     Parch            Ticket     Fare Cabin Embarked  \n",
       "0        0         A/5 21171   7.2500   NaN        S  \n",
       "1        0          PC 17599  71.2833   C85        C  \n",
       "2        0  STON/O2. 3101282   7.9250   NaN        S  \n",
       "3        0            113803  53.1000  C123        S  \n",
       "4        0            373450   8.0500   NaN        S  \n",
       "..     ...               ...      ...   ...      ...  \n",
       "886      0            211536  13.0000   NaN        S  \n",
       "887      0            112053  30.0000   B42        S  \n",
       "888      2        W./C. 6607  23.4500   NaN        S  \n",
       "889      0            111369  30.0000  C148        C  \n",
       "890      0            370376   7.7500   NaN        Q  \n",
       "\n",
       "[891 rows x 12 columns]"
      ]
     },
     "execution_count": 5,
     "metadata": {},
     "output_type": "execute_result"
    }
   ],
   "source": [
    "# Inspect the dataframe\n",
    "\n",
    "titanic"
   ]
  },
  {
   "cell_type": "code",
   "execution_count": 6,
   "id": "e378fd44-b070-4908-ae29-10e81a862b6b",
   "metadata": {},
   "outputs": [
    {
     "data": {
      "text/html": [
       "<div>\n",
       "<style scoped>\n",
       "    .dataframe tbody tr th:only-of-type {\n",
       "        vertical-align: middle;\n",
       "    }\n",
       "\n",
       "    .dataframe tbody tr th {\n",
       "        vertical-align: top;\n",
       "    }\n",
       "\n",
       "    .dataframe thead th {\n",
       "        text-align: right;\n",
       "    }\n",
       "</style>\n",
       "<table border=\"1\" class=\"dataframe\">\n",
       "  <thead>\n",
       "    <tr style=\"text-align: right;\">\n",
       "      <th></th>\n",
       "      <th>PassengerId</th>\n",
       "      <th>Survived</th>\n",
       "      <th>Pclass</th>\n",
       "      <th>Age</th>\n",
       "      <th>SibSp</th>\n",
       "      <th>Parch</th>\n",
       "      <th>Fare</th>\n",
       "    </tr>\n",
       "  </thead>\n",
       "  <tbody>\n",
       "    <tr>\n",
       "      <th>count</th>\n",
       "      <td>891.000000</td>\n",
       "      <td>891.000000</td>\n",
       "      <td>891.000000</td>\n",
       "      <td>714.000000</td>\n",
       "      <td>891.000000</td>\n",
       "      <td>891.000000</td>\n",
       "      <td>891.000000</td>\n",
       "    </tr>\n",
       "    <tr>\n",
       "      <th>mean</th>\n",
       "      <td>446.000000</td>\n",
       "      <td>0.383838</td>\n",
       "      <td>2.308642</td>\n",
       "      <td>29.699118</td>\n",
       "      <td>0.523008</td>\n",
       "      <td>0.381594</td>\n",
       "      <td>32.204208</td>\n",
       "    </tr>\n",
       "    <tr>\n",
       "      <th>std</th>\n",
       "      <td>257.353842</td>\n",
       "      <td>0.486592</td>\n",
       "      <td>0.836071</td>\n",
       "      <td>14.526497</td>\n",
       "      <td>1.102743</td>\n",
       "      <td>0.806057</td>\n",
       "      <td>49.693429</td>\n",
       "    </tr>\n",
       "    <tr>\n",
       "      <th>min</th>\n",
       "      <td>1.000000</td>\n",
       "      <td>0.000000</td>\n",
       "      <td>1.000000</td>\n",
       "      <td>0.420000</td>\n",
       "      <td>0.000000</td>\n",
       "      <td>0.000000</td>\n",
       "      <td>0.000000</td>\n",
       "    </tr>\n",
       "    <tr>\n",
       "      <th>25%</th>\n",
       "      <td>223.500000</td>\n",
       "      <td>0.000000</td>\n",
       "      <td>2.000000</td>\n",
       "      <td>20.125000</td>\n",
       "      <td>0.000000</td>\n",
       "      <td>0.000000</td>\n",
       "      <td>7.910400</td>\n",
       "    </tr>\n",
       "    <tr>\n",
       "      <th>50%</th>\n",
       "      <td>446.000000</td>\n",
       "      <td>0.000000</td>\n",
       "      <td>3.000000</td>\n",
       "      <td>28.000000</td>\n",
       "      <td>0.000000</td>\n",
       "      <td>0.000000</td>\n",
       "      <td>14.454200</td>\n",
       "    </tr>\n",
       "    <tr>\n",
       "      <th>75%</th>\n",
       "      <td>668.500000</td>\n",
       "      <td>1.000000</td>\n",
       "      <td>3.000000</td>\n",
       "      <td>38.000000</td>\n",
       "      <td>1.000000</td>\n",
       "      <td>0.000000</td>\n",
       "      <td>31.000000</td>\n",
       "    </tr>\n",
       "    <tr>\n",
       "      <th>max</th>\n",
       "      <td>891.000000</td>\n",
       "      <td>1.000000</td>\n",
       "      <td>3.000000</td>\n",
       "      <td>80.000000</td>\n",
       "      <td>8.000000</td>\n",
       "      <td>6.000000</td>\n",
       "      <td>512.329200</td>\n",
       "    </tr>\n",
       "  </tbody>\n",
       "</table>\n",
       "</div>"
      ],
      "text/plain": [
       "       PassengerId    Survived      Pclass         Age       SibSp  \\\n",
       "count   891.000000  891.000000  891.000000  714.000000  891.000000   \n",
       "mean    446.000000    0.383838    2.308642   29.699118    0.523008   \n",
       "std     257.353842    0.486592    0.836071   14.526497    1.102743   \n",
       "min       1.000000    0.000000    1.000000    0.420000    0.000000   \n",
       "25%     223.500000    0.000000    2.000000   20.125000    0.000000   \n",
       "50%     446.000000    0.000000    3.000000   28.000000    0.000000   \n",
       "75%     668.500000    1.000000    3.000000   38.000000    1.000000   \n",
       "max     891.000000    1.000000    3.000000   80.000000    8.000000   \n",
       "\n",
       "            Parch        Fare  \n",
       "count  891.000000  891.000000  \n",
       "mean     0.381594   32.204208  \n",
       "std      0.806057   49.693429  \n",
       "min      0.000000    0.000000  \n",
       "25%      0.000000    7.910400  \n",
       "50%      0.000000   14.454200  \n",
       "75%      0.000000   31.000000  \n",
       "max      6.000000  512.329200  "
      ]
     },
     "execution_count": 6,
     "metadata": {},
     "output_type": "execute_result"
    }
   ],
   "source": [
    "titanic.describe()"
   ]
  },
  {
   "cell_type": "markdown",
   "id": "5696291c-856b-48f6-b18c-d68e884d616a",
   "metadata": {},
   "source": [
    "### Do Some \"Analysis\"\n",
    "Question: Did different classes have different survival rates?"
   ]
  },
  {
   "cell_type": "code",
   "execution_count": 7,
   "id": "c499349a-d99f-4f9a-98e1-b1083b1b04a4",
   "metadata": {},
   "outputs": [
    {
     "data": {
      "text/plain": [
       "PassengerId      0\n",
       "Survived         0\n",
       "Pclass           0\n",
       "Name             0\n",
       "Sex              0\n",
       "Age            177\n",
       "SibSp            0\n",
       "Parch            0\n",
       "Ticket           0\n",
       "Fare             0\n",
       "Cabin          687\n",
       "Embarked         2\n",
       "dtype: int64"
      ]
     },
     "execution_count": 7,
     "metadata": {},
     "output_type": "execute_result"
    }
   ],
   "source": [
    "# Are there any NAs in the Survived and Pclass columns?\n",
    "\n",
    "titanic.isnull().sum(axis = 0)"
   ]
  },
  {
   "cell_type": "markdown",
   "id": "61bd0137-f697-4232-aaca-fb26fc293111",
   "metadata": {},
   "source": [
    "**Result:** It looks like all the NAs are in other columns, so this shouldn't affect our \"analysis.\""
   ]
  },
  {
   "cell_type": "code",
   "execution_count": 8,
   "id": "7e6abd60-8cb4-4f43-98f3-017c31e62622",
   "metadata": {},
   "outputs": [],
   "source": [
    "# Make a copy of the dataset for working\n",
    "\n",
    "titanic_survival = titanic.copy()"
   ]
  },
  {
   "cell_type": "code",
   "execution_count": 9,
   "id": "21d59b23-b9dc-46bf-90eb-3bbe43dbf976",
   "metadata": {},
   "outputs": [],
   "source": [
    "# Convert survived to boolean because it makes things clearer\n",
    "\n",
    "titanic_survival[\"Survived\"] = titanic_survival[\"Survived\"].astype(bool)"
   ]
  },
  {
   "cell_type": "code",
   "execution_count": 10,
   "id": "7fc70a1a-d6a8-4cc1-b094-362ef7218a5c",
   "metadata": {},
   "outputs": [
    {
     "data": {
      "text/html": [
       "<div>\n",
       "<style scoped>\n",
       "    .dataframe tbody tr th:only-of-type {\n",
       "        vertical-align: middle;\n",
       "    }\n",
       "\n",
       "    .dataframe tbody tr th {\n",
       "        vertical-align: top;\n",
       "    }\n",
       "\n",
       "    .dataframe thead th {\n",
       "        text-align: right;\n",
       "    }\n",
       "</style>\n",
       "<table border=\"1\" class=\"dataframe\">\n",
       "  <thead>\n",
       "    <tr style=\"text-align: right;\">\n",
       "      <th></th>\n",
       "      <th>Pclass</th>\n",
       "      <th>Survived</th>\n",
       "      <th>Count</th>\n",
       "    </tr>\n",
       "  </thead>\n",
       "  <tbody>\n",
       "    <tr>\n",
       "      <th>0</th>\n",
       "      <td>1</td>\n",
       "      <td>True</td>\n",
       "      <td>136</td>\n",
       "    </tr>\n",
       "    <tr>\n",
       "      <th>1</th>\n",
       "      <td>1</td>\n",
       "      <td>False</td>\n",
       "      <td>80</td>\n",
       "    </tr>\n",
       "    <tr>\n",
       "      <th>2</th>\n",
       "      <td>2</td>\n",
       "      <td>False</td>\n",
       "      <td>97</td>\n",
       "    </tr>\n",
       "    <tr>\n",
       "      <th>3</th>\n",
       "      <td>2</td>\n",
       "      <td>True</td>\n",
       "      <td>87</td>\n",
       "    </tr>\n",
       "    <tr>\n",
       "      <th>4</th>\n",
       "      <td>3</td>\n",
       "      <td>False</td>\n",
       "      <td>372</td>\n",
       "    </tr>\n",
       "    <tr>\n",
       "      <th>5</th>\n",
       "      <td>3</td>\n",
       "      <td>True</td>\n",
       "      <td>119</td>\n",
       "    </tr>\n",
       "  </tbody>\n",
       "</table>\n",
       "</div>"
      ],
      "text/plain": [
       "   Pclass  Survived  Count\n",
       "0       1      True    136\n",
       "1       1     False     80\n",
       "2       2     False     97\n",
       "3       2      True     87\n",
       "4       3     False    372\n",
       "5       3      True    119"
      ]
     },
     "execution_count": 10,
     "metadata": {},
     "output_type": "execute_result"
    }
   ],
   "source": [
    "# We only need survived and Pclass for this analysis\n",
    "# Get the count of true/false\n",
    "\n",
    "titanic_survival = (\n",
    "    titanic_survival.groupby(by=\"Pclass\")[\"Survived\"]\n",
    "    .value_counts()\n",
    "    .reset_index(name=\"Count\")\n",
    ")\n",
    "\n",
    "titanic_survival"
   ]
  },
  {
   "cell_type": "code",
   "execution_count": 11,
   "id": "596da339-5b6e-4fa8-9e3b-dbe686e081e7",
   "metadata": {},
   "outputs": [
    {
     "data": {
      "text/html": [
       "<div>\n",
       "<style scoped>\n",
       "    .dataframe tbody tr th:only-of-type {\n",
       "        vertical-align: middle;\n",
       "    }\n",
       "\n",
       "    .dataframe tbody tr th {\n",
       "        vertical-align: top;\n",
       "    }\n",
       "\n",
       "    .dataframe thead th {\n",
       "        text-align: right;\n",
       "    }\n",
       "</style>\n",
       "<table border=\"1\" class=\"dataframe\">\n",
       "  <thead>\n",
       "    <tr style=\"text-align: right;\">\n",
       "      <th></th>\n",
       "      <th>Pclass</th>\n",
       "      <th>Survived</th>\n",
       "      <th>Count</th>\n",
       "      <th>Percent</th>\n",
       "    </tr>\n",
       "  </thead>\n",
       "  <tbody>\n",
       "    <tr>\n",
       "      <th>0</th>\n",
       "      <td>1</td>\n",
       "      <td>True</td>\n",
       "      <td>136</td>\n",
       "      <td>62.962963</td>\n",
       "    </tr>\n",
       "    <tr>\n",
       "      <th>1</th>\n",
       "      <td>1</td>\n",
       "      <td>False</td>\n",
       "      <td>80</td>\n",
       "      <td>37.037037</td>\n",
       "    </tr>\n",
       "    <tr>\n",
       "      <th>2</th>\n",
       "      <td>2</td>\n",
       "      <td>False</td>\n",
       "      <td>97</td>\n",
       "      <td>52.717391</td>\n",
       "    </tr>\n",
       "    <tr>\n",
       "      <th>3</th>\n",
       "      <td>2</td>\n",
       "      <td>True</td>\n",
       "      <td>87</td>\n",
       "      <td>47.282609</td>\n",
       "    </tr>\n",
       "    <tr>\n",
       "      <th>4</th>\n",
       "      <td>3</td>\n",
       "      <td>False</td>\n",
       "      <td>372</td>\n",
       "      <td>75.763747</td>\n",
       "    </tr>\n",
       "    <tr>\n",
       "      <th>5</th>\n",
       "      <td>3</td>\n",
       "      <td>True</td>\n",
       "      <td>119</td>\n",
       "      <td>24.236253</td>\n",
       "    </tr>\n",
       "  </tbody>\n",
       "</table>\n",
       "</div>"
      ],
      "text/plain": [
       "   Pclass  Survived  Count    Percent\n",
       "0       1      True    136  62.962963\n",
       "1       1     False     80  37.037037\n",
       "2       2     False     97  52.717391\n",
       "3       2      True     87  47.282609\n",
       "4       3     False    372  75.763747\n",
       "5       3      True    119  24.236253"
      ]
     },
     "execution_count": 11,
     "metadata": {},
     "output_type": "execute_result"
    }
   ],
   "source": [
    "# Add column for percent survival\n",
    "\n",
    "titanic_survival[\"Percent\"] = 100 * (titanic_survival[\"Count\"] / titanic_survival.groupby(\"Pclass\")[\"Count\"].transform(\"sum\")) \n",
    "\n",
    "titanic_survival"
   ]
  },
  {
   "cell_type": "markdown",
   "id": "0c3b3401-975d-4917-832b-719fe29f22ab",
   "metadata": {},
   "source": [
    "**Result:** Kind of intuitive, as a proportion, more first class passengers survived."
   ]
  },
  {
   "cell_type": "code",
   "execution_count": 17,
   "id": "af1ec3f4-f371-4425-9e4e-221a430af189",
   "metadata": {},
   "outputs": [],
   "source": [
    "# Save the new dataframe\n",
    "\n",
    "titanic_survival.to_csv(\"./polyglot_jupyter_example_py/titanic_survival.csv\")"
   ]
  },
  {
   "cell_type": "markdown",
   "id": "d21118dc-5430-49d0-90f8-80aa0ef323fd",
   "metadata": {},
   "source": [
    "### Make Some Visualizations"
   ]
  },
  {
   "cell_type": "code",
   "execution_count": 12,
   "id": "bd77a8bb-a70e-4e75-a125-05ead106c581",
   "metadata": {},
   "outputs": [
    {
     "data": {
      "text/plain": [
       "<seaborn.axisgrid.FacetGrid at 0x7f494013f670>"
      ]
     },
     "execution_count": 12,
     "metadata": {},
     "output_type": "execute_result"
    },
    {
     "data": {
      "image/png": "[encoded data removed]",
      "text/plain": [
       "<Figure size 598x500 with 1 Axes>"
      ]
     },
     "metadata": {},
     "output_type": "display_data"
    }
   ],
   "source": [
    "# Make a bar plot with seaborn showing surival rate by class and sex\n",
    "\n",
    "sns.catplot(\n",
    "    data=titanic,\n",
    "    x=\"Pclass\",\n",
    "    y=\"Survived\",\n",
    "    hue=\"Sex\",\n",
    "    kind=\"bar\",\n",
    ").set(\n",
    "    title=\"Titanic Survival Rate\",\n",
    "    xlabel=\"Passenger Class\"\n",
    ")"
   ]
  },
  {
   "cell_type": "markdown",
   "id": "293e6340-88f9-4bf1-84f6-88d3532f2542",
   "metadata": {},
   "source": [
    "**Result:** Exactly what we showed above but with a visual."
   ]
  },
  {
   "cell_type": "code",
   "execution_count": 13,
   "id": "d8ba0660-b7f6-4251-8542-9e0262c8722a",
   "metadata": {},
   "outputs": [
    {
     "data": {
      "text/plain": [
       "<seaborn.axisgrid.FacetGrid at 0x7f48ec825990>"
      ]
     },
     "execution_count": 13,
     "metadata": {},
     "output_type": "execute_result"
    },
    {
     "data": {
      "image/png": "[encoded data removed]",
      "text/plain": [
       "<Figure size 558.875x500 with 1 Axes>"
      ]
     },
     "metadata": {},
     "output_type": "display_data"
    }
   ],
   "source": [
    "# Plot the fare by class and Age\n",
    "\n",
    "sns.relplot(\n",
    "    data=titanic,\n",
    "    x=\"Age\",\n",
    "    y=\"Fare\",\n",
    "    hue=\"Pclass\"\n",
    ")"
   ]
  },
  {
   "cell_type": "markdown",
   "id": "4db6e223-f45e-4d92-8730-8eea0505f37b",
   "metadata": {},
   "source": [
    "**Result:** Fares for 2nd and third classes were more consistent, while first class varies."
   ]
  },
  {
   "cell_type": "code",
   "execution_count": 14,
   "id": "c75f2b6e-fb19-40ef-abaf-a321d99ff917",
   "metadata": {},
   "outputs": [
    {
     "data": {
      "text/plain": [
       "0      3\n",
       "1      1\n",
       "2      3\n",
       "3      1\n",
       "4      3\n",
       "      ..\n",
       "886    2\n",
       "887    1\n",
       "888    3\n",
       "889    1\n",
       "890    3\n",
       "Name: Pclass, Length: 891, dtype: object"
      ]
     },
     "execution_count": 14,
     "metadata": {},
     "output_type": "execute_result"
    }
   ],
   "source": [
    "# To look at the distribution of prices it will help to have class be a str\n",
    "\n",
    "titanic[\"Pclass\"] = titanic[\"Pclass\"].astype(str)\n",
    "\n",
    "titanic[\"Pclass\"]"
   ]
  },
  {
   "cell_type": "code",
   "execution_count": 18,
   "id": "f94ab0f6-6c61-4962-9e99-7f25dbc958a4",
   "metadata": {},
   "outputs": [
    {
     "data": {
      "text/plain": [
       "<Axes: xlabel='Age', ylabel='Pclass'>"
      ]
     },
     "execution_count": 18,
     "metadata": {},
     "output_type": "execute_result"
    },
    {
     "data": {
      "image/png": "[encoded data removed]",
      "text/plain": [
       "<Figure size 511.111x500 with 1 Axes>"
      ]
     },
     "metadata": {},
     "output_type": "display_data"
    }
   ],
   "source": [
    "# Combination violin and swarmplot, right from the seaborn docs: https://seaborn.pydata.org/generated/seaborn.catplot.html\n",
    "\n",
    "sns.catplot(data=titanic, x=\"Age\", y=\"Pclass\", kind=\"violin\", color=\".9\", inner=None)\n",
    "sns.swarmplot(data=titanic, x=\"Age\", y=\"Pclass\", size=3)"
   ]
  },
  {
   "cell_type": "markdown",
   "id": "db48d79e-4eb4-4f31-b6e7-7bd8fecc4d0f",
   "metadata": {},
   "source": [
    "### Conclusion\n",
    "\n",
    "Jupyter installed at the global/user-level can be made to create notebooks and connect to an ipythonkernel installed in a virtualenv."
   ]
  },
  {
   "cell_type": "markdown",
   "id": "c8594c13-edcc-45f0-8f97-ea73b92c8f5c",
   "metadata": {},
   "source": [
    "### Documenting the Environment\n",
    "\n",
    "Outside the notebook a new requirements.txt was generated:\n",
    "\n",
    "1. Enter the directory of your project, where the notebooks live.\n",
    "2. `pyenv activate polyglot_jupyter_example` (If your virtualenv isn't already active in your shell)\n",
    "3. `pip freeze` > requirements.txt\n",
    "4. You can now safely `pyenv deactivate` if you wish\n",
    "5. The \"requirements.txt\" will then be tracked in the github repo and can be used to reconstruct the environment with `pip install -r requirements.txt` in the future."
   ]
  },
  {
   "cell_type": "code",
   "execution_count": 4,
   "id": "09551673-bea7-472a-b58e-860785aa2faf",
   "metadata": {},
   "outputs": [
    {
     "name": "stdout",
     "output_type": "stream",
     "text": [
      "[NbConvertApp] Converting notebook polyglot_jupyter_example_py.ipynb to script\n",
      "[NbConvertApp] Writing 5365 bytes to polyglot_jupyter_example_py/polyglot_jupyter_example_py.py\n",
      "[NbConvertApp] Converting notebook polyglot_jupyter_example_py.ipynb to html\n",
      "[NbConvertApp] WARNING | Alternative text is missing on 3 image(s).\n",
      "[NbConvertApp] Writing 447956 bytes to polyglot_jupyter_example_py/polyglot_jupyter_example_py.html\n"
     ]
    }
   ],
   "source": [
    "# I also export the notebook as a .py script so it can be run without jupyter and .html so non-coders can view it\n",
    "# These can be run outside of the notebook in a shell spawned by jupyter , as long as you have nbconvert installed in your local python version\n",
    "\n",
    "! jupyter nbconvert --to script --output-dir ./polyglot_jupyter_example_py/ polyglot_jupyter_example_py.ipynb\n",
    "! jupyter nbconvert --to html --output-dir ./polyglot_jupyter_example_py/ polyglot_jupyter_example_py.ipynb"
   ]
  },
  {
   "cell_type": "markdown",
   "id": "e28de0bf-b504-4961-a7fe-3b34ff4d08b9",
   "metadata": {},
   "source": [
    "### Cleaning-up\n",
    "\n",
    "Outside the virtualenv you can:\n",
    "1. `jupyter kernelspec list` - To get the installed kernels and identify the one used in this project.\n",
    "2. `jupyter kernelspec remove polyglot_jupyter_example` - Remove the virtualenv from the list of kernels.\n",
    "3. Keep the virtualenv kernel installed if you intend to use more ipython kernel-based notebooks in this project."
   ]
  }
 ],
 "metadata": {
  "kernelspec": {
   "display_name": "polyglot_jupyter_example",
   "language": "python",
   "name": "polyglot_jupyter_example"
  },
  "language_info": {
   "codemirror_mode": {
    "name": "ipython",
    "version": 3
   },
   "file_extension": ".py",
   "mimetype": "text/x-python",
   "name": "python",
   "nbconvert_exporter": "python",
   "pygments_lexer": "ipython3",
   "version": "3.10.14"
  }
 },
 "nbformat": 4,
 "nbformat_minor": 5
}
